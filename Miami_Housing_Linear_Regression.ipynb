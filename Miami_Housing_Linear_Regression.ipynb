{
 "cells": [
  {
   "cell_type": "markdown",
   "id": "6fdacb86",
   "metadata": {},
   "source": [
    "**Dataset Source**: https://www.kaggle.com/datasets/deepcontractor/miami-housing-dataset?resource=download"
   ]
  },
  {
   "cell_type": "code",
   "execution_count": 2,
   "id": "7585f990",
   "metadata": {},
   "outputs": [],
   "source": [
    "import pandas as pd\n",
    "import seaborn as sb\n",
    "from sklearn.linear_model import LinearRegression\n",
    "from sklearn.preprocessing import StandardScaler\n",
    "from sklearn.model_selection import train_test_split\n",
    "import numpy as np\n",
    "import matplotlib.pyplot as plt\n",
    "%matplotlib inline"
   ]
  },
  {
   "cell_type": "code",
   "execution_count": 3,
   "id": "ce95d5e9",
   "metadata": {},
   "outputs": [
    {
     "data": {
      "text/html": [
       "<div>\n",
       "<style scoped>\n",
       "    .dataframe tbody tr th:only-of-type {\n",
       "        vertical-align: middle;\n",
       "    }\n",
       "\n",
       "    .dataframe tbody tr th {\n",
       "        vertical-align: top;\n",
       "    }\n",
       "\n",
       "    .dataframe thead th {\n",
       "        text-align: right;\n",
       "    }\n",
       "</style>\n",
       "<table border=\"1\" class=\"dataframe\">\n",
       "  <thead>\n",
       "    <tr style=\"text-align: right;\">\n",
       "      <th></th>\n",
       "      <th>LATITUDE</th>\n",
       "      <th>LONGITUDE</th>\n",
       "      <th>PARCELNO</th>\n",
       "      <th>SALE_PRC</th>\n",
       "      <th>LND_SQFOOT</th>\n",
       "      <th>TOT_LVG_AREA</th>\n",
       "      <th>SPEC_FEAT_VAL</th>\n",
       "      <th>RAIL_DIST</th>\n",
       "      <th>OCEAN_DIST</th>\n",
       "      <th>WATER_DIST</th>\n",
       "      <th>CNTR_DIST</th>\n",
       "      <th>SUBCNTR_DI</th>\n",
       "      <th>HWY_DIST</th>\n",
       "      <th>age</th>\n",
       "      <th>avno60plus</th>\n",
       "      <th>month_sold</th>\n",
       "      <th>structure_quality</th>\n",
       "    </tr>\n",
       "  </thead>\n",
       "  <tbody>\n",
       "    <tr>\n",
       "      <th>0</th>\n",
       "      <td>25.891031</td>\n",
       "      <td>-80.160561</td>\n",
       "      <td>622280070620</td>\n",
       "      <td>440000.0</td>\n",
       "      <td>9375</td>\n",
       "      <td>1753</td>\n",
       "      <td>0</td>\n",
       "      <td>2815.9</td>\n",
       "      <td>12811.4</td>\n",
       "      <td>347.6</td>\n",
       "      <td>42815.3</td>\n",
       "      <td>37742.2</td>\n",
       "      <td>15954.9</td>\n",
       "      <td>67</td>\n",
       "      <td>0</td>\n",
       "      <td>8</td>\n",
       "      <td>4</td>\n",
       "    </tr>\n",
       "    <tr>\n",
       "      <th>1</th>\n",
       "      <td>25.891324</td>\n",
       "      <td>-80.153968</td>\n",
       "      <td>622280100460</td>\n",
       "      <td>349000.0</td>\n",
       "      <td>9375</td>\n",
       "      <td>1715</td>\n",
       "      <td>0</td>\n",
       "      <td>4359.1</td>\n",
       "      <td>10648.4</td>\n",
       "      <td>337.8</td>\n",
       "      <td>43504.9</td>\n",
       "      <td>37340.5</td>\n",
       "      <td>18125.0</td>\n",
       "      <td>63</td>\n",
       "      <td>0</td>\n",
       "      <td>9</td>\n",
       "      <td>4</td>\n",
       "    </tr>\n",
       "    <tr>\n",
       "      <th>2</th>\n",
       "      <td>25.891334</td>\n",
       "      <td>-80.153740</td>\n",
       "      <td>622280100470</td>\n",
       "      <td>800000.0</td>\n",
       "      <td>9375</td>\n",
       "      <td>2276</td>\n",
       "      <td>49206</td>\n",
       "      <td>4412.9</td>\n",
       "      <td>10574.1</td>\n",
       "      <td>297.1</td>\n",
       "      <td>43530.4</td>\n",
       "      <td>37328.7</td>\n",
       "      <td>18200.5</td>\n",
       "      <td>61</td>\n",
       "      <td>0</td>\n",
       "      <td>2</td>\n",
       "      <td>4</td>\n",
       "    </tr>\n",
       "    <tr>\n",
       "      <th>3</th>\n",
       "      <td>25.891765</td>\n",
       "      <td>-80.152657</td>\n",
       "      <td>622280100530</td>\n",
       "      <td>988000.0</td>\n",
       "      <td>12450</td>\n",
       "      <td>2058</td>\n",
       "      <td>10033</td>\n",
       "      <td>4585.0</td>\n",
       "      <td>10156.5</td>\n",
       "      <td>0.0</td>\n",
       "      <td>43797.5</td>\n",
       "      <td>37423.2</td>\n",
       "      <td>18514.4</td>\n",
       "      <td>63</td>\n",
       "      <td>0</td>\n",
       "      <td>9</td>\n",
       "      <td>4</td>\n",
       "    </tr>\n",
       "    <tr>\n",
       "      <th>4</th>\n",
       "      <td>25.891825</td>\n",
       "      <td>-80.154639</td>\n",
       "      <td>622280100200</td>\n",
       "      <td>755000.0</td>\n",
       "      <td>12800</td>\n",
       "      <td>1684</td>\n",
       "      <td>16681</td>\n",
       "      <td>4063.4</td>\n",
       "      <td>10836.8</td>\n",
       "      <td>326.6</td>\n",
       "      <td>43599.7</td>\n",
       "      <td>37550.8</td>\n",
       "      <td>17903.4</td>\n",
       "      <td>42</td>\n",
       "      <td>0</td>\n",
       "      <td>7</td>\n",
       "      <td>4</td>\n",
       "    </tr>\n",
       "  </tbody>\n",
       "</table>\n",
       "</div>"
      ],
      "text/plain": [
       "    LATITUDE  LONGITUDE      PARCELNO  SALE_PRC  LND_SQFOOT  TOT_LVG_AREA  \\\n",
       "0  25.891031 -80.160561  622280070620  440000.0        9375          1753   \n",
       "1  25.891324 -80.153968  622280100460  349000.0        9375          1715   \n",
       "2  25.891334 -80.153740  622280100470  800000.0        9375          2276   \n",
       "3  25.891765 -80.152657  622280100530  988000.0       12450          2058   \n",
       "4  25.891825 -80.154639  622280100200  755000.0       12800          1684   \n",
       "\n",
       "   SPEC_FEAT_VAL  RAIL_DIST  OCEAN_DIST  WATER_DIST  CNTR_DIST  SUBCNTR_DI  \\\n",
       "0              0     2815.9     12811.4       347.6    42815.3     37742.2   \n",
       "1              0     4359.1     10648.4       337.8    43504.9     37340.5   \n",
       "2          49206     4412.9     10574.1       297.1    43530.4     37328.7   \n",
       "3          10033     4585.0     10156.5         0.0    43797.5     37423.2   \n",
       "4          16681     4063.4     10836.8       326.6    43599.7     37550.8   \n",
       "\n",
       "   HWY_DIST  age  avno60plus  month_sold  structure_quality  \n",
       "0   15954.9   67           0           8                  4  \n",
       "1   18125.0   63           0           9                  4  \n",
       "2   18200.5   61           0           2                  4  \n",
       "3   18514.4   63           0           9                  4  \n",
       "4   17903.4   42           0           7                  4  "
      ]
     },
     "execution_count": 3,
     "metadata": {},
     "output_type": "execute_result"
    }
   ],
   "source": [
    "df = pd.read_csv(\"miami-housing.csv\")\n",
    "df.head()"
   ]
  },
  {
   "cell_type": "markdown",
   "id": "cea1b397",
   "metadata": {},
   "source": [
    "#### The dataset contains the following columns:\n",
    "\n",
    "\n",
    "**PARCELNO**: unique identifier for each property. About 1% appear multiple times.<br>\n",
    "**SALE_PRC**: sale price (USD) <br>\n",
    "**LND_SQFOOT**: land area (square feet)<br>\n",
    "**TOT_LVG_AREA**: floor area (square feet)<br>\n",
    "**SPEC_FEAT_VAL**: value of special features (e.g., swimming pools) (USD)<br>\n",
    "**RAIL_DIST**: distance to the nearest rail line (an indicator of noise) (feet)<br>\n",
    "**OCEAN_DIST**: distance to the ocean (feet)<br>\n",
    "**WATER_DIST**: distance to the nearest body of water (feet)<br>\n",
    "**CNTR_DIST**: distance to the Miami central business district (feet)<br>\n",
    "**SUBCNTR_DI**: distance to the nearest subcenter (feet)<br>\n",
    "**HWY_DIST**: distance to the nearest highway (an indicator of noise) (feet)<br>\n",
    "**age**: age of the structure<br>\n",
    "**avno60plus**: dummy variable for airplane noise exceeding an acceptable level<br>\n",
    "**structure_quality**: quality of the structure<br>\n",
    "**month_sold**: sale month in 2016 (1 = jan)<br>\n",
    "**LATITUDE**<br>\n",
    "**LONGITUDE**"
   ]
  },
  {
   "cell_type": "code",
   "execution_count": 4,
   "id": "c52be814",
   "metadata": {},
   "outputs": [
    {
     "data": {
      "text/plain": [
       "(13932, 17)"
      ]
     },
     "execution_count": 4,
     "metadata": {},
     "output_type": "execute_result"
    }
   ],
   "source": [
    "# Shape of df\n",
    "df.shape"
   ]
  },
  {
   "cell_type": "code",
   "execution_count": 5,
   "id": "25cc788a",
   "metadata": {},
   "outputs": [
    {
     "data": {
      "text/plain": [
       "LATITUDE             0\n",
       "LONGITUDE            0\n",
       "PARCELNO             0\n",
       "SALE_PRC             0\n",
       "LND_SQFOOT           0\n",
       "TOT_LVG_AREA         0\n",
       "SPEC_FEAT_VAL        0\n",
       "RAIL_DIST            0\n",
       "OCEAN_DIST           0\n",
       "WATER_DIST           0\n",
       "CNTR_DIST            0\n",
       "SUBCNTR_DI           0\n",
       "HWY_DIST             0\n",
       "age                  0\n",
       "avno60plus           0\n",
       "month_sold           0\n",
       "structure_quality    0\n",
       "dtype: int64"
      ]
     },
     "execution_count": 5,
     "metadata": {},
     "output_type": "execute_result"
    }
   ],
   "source": [
    "# Check for any null or missing values by column\n",
    "df.isnull().sum()"
   ]
  },
  {
   "cell_type": "code",
   "execution_count": 6,
   "id": "63ef13b3",
   "metadata": {},
   "outputs": [
    {
     "data": {
      "text/html": [
       "<div>\n",
       "<style scoped>\n",
       "    .dataframe tbody tr th:only-of-type {\n",
       "        vertical-align: middle;\n",
       "    }\n",
       "\n",
       "    .dataframe tbody tr th {\n",
       "        vertical-align: top;\n",
       "    }\n",
       "\n",
       "    .dataframe thead th {\n",
       "        text-align: right;\n",
       "    }\n",
       "</style>\n",
       "<table border=\"1\" class=\"dataframe\">\n",
       "  <thead>\n",
       "    <tr style=\"text-align: right;\">\n",
       "      <th></th>\n",
       "      <th>LATITUDE</th>\n",
       "      <th>LONGITUDE</th>\n",
       "      <th>PARCELNO</th>\n",
       "      <th>SALE_PRC</th>\n",
       "      <th>LND_SQFOOT</th>\n",
       "      <th>TOT_LVG_AREA</th>\n",
       "      <th>SPEC_FEAT_VAL</th>\n",
       "      <th>RAIL_DIST</th>\n",
       "      <th>OCEAN_DIST</th>\n",
       "      <th>WATER_DIST</th>\n",
       "      <th>CNTR_DIST</th>\n",
       "      <th>SUBCNTR_DI</th>\n",
       "      <th>HWY_DIST</th>\n",
       "      <th>age</th>\n",
       "      <th>avno60plus</th>\n",
       "      <th>month_sold</th>\n",
       "      <th>structure_quality</th>\n",
       "    </tr>\n",
       "  </thead>\n",
       "  <tbody>\n",
       "    <tr>\n",
       "      <th>LATITUDE</th>\n",
       "      <td>1.000000</td>\n",
       "      <td>0.721232</td>\n",
       "      <td>-0.165487</td>\n",
       "      <td>0.047701</td>\n",
       "      <td>-0.077481</td>\n",
       "      <td>-0.193972</td>\n",
       "      <td>-0.007634</td>\n",
       "      <td>-0.172382</td>\n",
       "      <td>0.242735</td>\n",
       "      <td>-0.423396</td>\n",
       "      <td>-0.717348</td>\n",
       "      <td>-0.195823</td>\n",
       "      <td>-0.113443</td>\n",
       "      <td>0.416967</td>\n",
       "      <td>0.081366</td>\n",
       "      <td>-0.023634</td>\n",
       "      <td>0.391989</td>\n",
       "    </tr>\n",
       "    <tr>\n",
       "      <th>LONGITUDE</th>\n",
       "      <td>0.721232</td>\n",
       "      <td>1.000000</td>\n",
       "      <td>-0.432816</td>\n",
       "      <td>0.195274</td>\n",
       "      <td>0.018242</td>\n",
       "      <td>-0.181007</td>\n",
       "      <td>-0.009372</td>\n",
       "      <td>-0.303155</td>\n",
       "      <td>-0.457477</td>\n",
       "      <td>-0.764256</td>\n",
       "      <td>-0.791968</td>\n",
       "      <td>-0.380220</td>\n",
       "      <td>-0.216406</td>\n",
       "      <td>0.488757</td>\n",
       "      <td>0.059416</td>\n",
       "      <td>-0.010859</td>\n",
       "      <td>0.132893</td>\n",
       "    </tr>\n",
       "    <tr>\n",
       "      <th>PARCELNO</th>\n",
       "      <td>-0.165487</td>\n",
       "      <td>-0.432816</td>\n",
       "      <td>1.000000</td>\n",
       "      <td>-0.204068</td>\n",
       "      <td>0.071381</td>\n",
       "      <td>0.102439</td>\n",
       "      <td>0.055152</td>\n",
       "      <td>0.223387</td>\n",
       "      <td>0.289232</td>\n",
       "      <td>0.295951</td>\n",
       "      <td>0.419933</td>\n",
       "      <td>0.243888</td>\n",
       "      <td>0.018247</td>\n",
       "      <td>-0.270718</td>\n",
       "      <td>-0.160925</td>\n",
       "      <td>0.011129</td>\n",
       "      <td>0.044652</td>\n",
       "    </tr>\n",
       "    <tr>\n",
       "      <th>SALE_PRC</th>\n",
       "      <td>0.047701</td>\n",
       "      <td>0.195274</td>\n",
       "      <td>-0.204068</td>\n",
       "      <td>1.000000</td>\n",
       "      <td>0.363077</td>\n",
       "      <td>0.667301</td>\n",
       "      <td>0.497500</td>\n",
       "      <td>-0.077009</td>\n",
       "      <td>-0.274675</td>\n",
       "      <td>-0.127938</td>\n",
       "      <td>-0.271425</td>\n",
       "      <td>-0.370078</td>\n",
       "      <td>0.231877</td>\n",
       "      <td>-0.123408</td>\n",
       "      <td>-0.027026</td>\n",
       "      <td>0.000325</td>\n",
       "      <td>0.383995</td>\n",
       "    </tr>\n",
       "    <tr>\n",
       "      <th>LND_SQFOOT</th>\n",
       "      <td>-0.077481</td>\n",
       "      <td>0.018242</td>\n",
       "      <td>0.071381</td>\n",
       "      <td>0.363077</td>\n",
       "      <td>1.000000</td>\n",
       "      <td>0.437472</td>\n",
       "      <td>0.390707</td>\n",
       "      <td>-0.083901</td>\n",
       "      <td>-0.161579</td>\n",
       "      <td>-0.055093</td>\n",
       "      <td>-0.023181</td>\n",
       "      <td>-0.159094</td>\n",
       "      <td>0.130488</td>\n",
       "      <td>0.101244</td>\n",
       "      <td>-0.005899</td>\n",
       "      <td>0.005926</td>\n",
       "      <td>-0.006686</td>\n",
       "    </tr>\n",
       "    <tr>\n",
       "      <th>TOT_LVG_AREA</th>\n",
       "      <td>-0.193972</td>\n",
       "      <td>-0.181007</td>\n",
       "      <td>0.102439</td>\n",
       "      <td>0.667301</td>\n",
       "      <td>0.437472</td>\n",
       "      <td>1.000000</td>\n",
       "      <td>0.506064</td>\n",
       "      <td>0.075486</td>\n",
       "      <td>-0.050141</td>\n",
       "      <td>0.148343</td>\n",
       "      <td>0.136526</td>\n",
       "      <td>-0.044882</td>\n",
       "      <td>0.229497</td>\n",
       "      <td>-0.340606</td>\n",
       "      <td>-0.056545</td>\n",
       "      <td>0.002517</td>\n",
       "      <td>0.173422</td>\n",
       "    </tr>\n",
       "    <tr>\n",
       "      <th>SPEC_FEAT_VAL</th>\n",
       "      <td>-0.007634</td>\n",
       "      <td>-0.009372</td>\n",
       "      <td>0.055152</td>\n",
       "      <td>0.497500</td>\n",
       "      <td>0.390707</td>\n",
       "      <td>0.506064</td>\n",
       "      <td>1.000000</td>\n",
       "      <td>-0.021965</td>\n",
       "      <td>-0.055155</td>\n",
       "      <td>0.013923</td>\n",
       "      <td>-0.048817</td>\n",
       "      <td>-0.151916</td>\n",
       "      <td>0.153770</td>\n",
       "      <td>-0.098780</td>\n",
       "      <td>-0.008879</td>\n",
       "      <td>-0.014012</td>\n",
       "      <td>0.188030</td>\n",
       "    </tr>\n",
       "    <tr>\n",
       "      <th>RAIL_DIST</th>\n",
       "      <td>-0.172382</td>\n",
       "      <td>-0.303155</td>\n",
       "      <td>0.223387</td>\n",
       "      <td>-0.077009</td>\n",
       "      <td>-0.083901</td>\n",
       "      <td>0.075486</td>\n",
       "      <td>-0.021965</td>\n",
       "      <td>1.000000</td>\n",
       "      <td>0.258966</td>\n",
       "      <td>0.162313</td>\n",
       "      <td>0.444494</td>\n",
       "      <td>0.485468</td>\n",
       "      <td>-0.092495</td>\n",
       "      <td>-0.234515</td>\n",
       "      <td>-0.116955</td>\n",
       "      <td>0.010560</td>\n",
       "      <td>-0.074075</td>\n",
       "    </tr>\n",
       "    <tr>\n",
       "      <th>OCEAN_DIST</th>\n",
       "      <td>0.242735</td>\n",
       "      <td>-0.457477</td>\n",
       "      <td>0.289232</td>\n",
       "      <td>-0.274675</td>\n",
       "      <td>-0.161579</td>\n",
       "      <td>-0.050141</td>\n",
       "      <td>-0.055155</td>\n",
       "      <td>0.258966</td>\n",
       "      <td>1.000000</td>\n",
       "      <td>0.490764</td>\n",
       "      <td>0.245396</td>\n",
       "      <td>0.425869</td>\n",
       "      <td>0.093500</td>\n",
       "      <td>-0.159409</td>\n",
       "      <td>0.035215</td>\n",
       "      <td>-0.012723</td>\n",
       "      <td>0.209497</td>\n",
       "    </tr>\n",
       "    <tr>\n",
       "      <th>WATER_DIST</th>\n",
       "      <td>-0.423396</td>\n",
       "      <td>-0.764256</td>\n",
       "      <td>0.295951</td>\n",
       "      <td>-0.127938</td>\n",
       "      <td>-0.055093</td>\n",
       "      <td>0.148343</td>\n",
       "      <td>0.013923</td>\n",
       "      <td>0.162313</td>\n",
       "      <td>0.490764</td>\n",
       "      <td>1.000000</td>\n",
       "      <td>0.526952</td>\n",
       "      <td>0.195280</td>\n",
       "      <td>0.400233</td>\n",
       "      <td>-0.330578</td>\n",
       "      <td>-0.096339</td>\n",
       "      <td>0.010556</td>\n",
       "      <td>-0.034343</td>\n",
       "    </tr>\n",
       "    <tr>\n",
       "      <th>CNTR_DIST</th>\n",
       "      <td>-0.717348</td>\n",
       "      <td>-0.791968</td>\n",
       "      <td>0.419933</td>\n",
       "      <td>-0.271425</td>\n",
       "      <td>-0.023181</td>\n",
       "      <td>0.136526</td>\n",
       "      <td>-0.048817</td>\n",
       "      <td>0.444494</td>\n",
       "      <td>0.245396</td>\n",
       "      <td>0.526952</td>\n",
       "      <td>1.000000</td>\n",
       "      <td>0.766387</td>\n",
       "      <td>0.076484</td>\n",
       "      <td>-0.548287</td>\n",
       "      <td>-0.130857</td>\n",
       "      <td>0.023096</td>\n",
       "      <td>-0.330588</td>\n",
       "    </tr>\n",
       "    <tr>\n",
       "      <th>SUBCNTR_DI</th>\n",
       "      <td>-0.195823</td>\n",
       "      <td>-0.380220</td>\n",
       "      <td>0.243888</td>\n",
       "      <td>-0.370078</td>\n",
       "      <td>-0.159094</td>\n",
       "      <td>-0.044882</td>\n",
       "      <td>-0.151916</td>\n",
       "      <td>0.485468</td>\n",
       "      <td>0.425869</td>\n",
       "      <td>0.195280</td>\n",
       "      <td>0.766387</td>\n",
       "      <td>1.000000</td>\n",
       "      <td>-0.093982</td>\n",
       "      <td>-0.385278</td>\n",
       "      <td>-0.073202</td>\n",
       "      <td>0.016334</td>\n",
       "      <td>-0.248656</td>\n",
       "    </tr>\n",
       "    <tr>\n",
       "      <th>HWY_DIST</th>\n",
       "      <td>-0.113443</td>\n",
       "      <td>-0.216406</td>\n",
       "      <td>0.018247</td>\n",
       "      <td>0.231877</td>\n",
       "      <td>0.130488</td>\n",
       "      <td>0.229497</td>\n",
       "      <td>0.153770</td>\n",
       "      <td>-0.092495</td>\n",
       "      <td>0.093500</td>\n",
       "      <td>0.400233</td>\n",
       "      <td>0.076484</td>\n",
       "      <td>-0.093982</td>\n",
       "      <td>1.000000</td>\n",
       "      <td>-0.120505</td>\n",
       "      <td>-0.019788</td>\n",
       "      <td>-0.004547</td>\n",
       "      <td>0.193529</td>\n",
       "    </tr>\n",
       "    <tr>\n",
       "      <th>age</th>\n",
       "      <td>0.416967</td>\n",
       "      <td>0.488757</td>\n",
       "      <td>-0.270718</td>\n",
       "      <td>-0.123408</td>\n",
       "      <td>0.101244</td>\n",
       "      <td>-0.340606</td>\n",
       "      <td>-0.098780</td>\n",
       "      <td>-0.234515</td>\n",
       "      <td>-0.159409</td>\n",
       "      <td>-0.330578</td>\n",
       "      <td>-0.548287</td>\n",
       "      <td>-0.385278</td>\n",
       "      <td>-0.120505</td>\n",
       "      <td>1.000000</td>\n",
       "      <td>0.110325</td>\n",
       "      <td>-0.038904</td>\n",
       "      <td>0.009253</td>\n",
       "    </tr>\n",
       "    <tr>\n",
       "      <th>avno60plus</th>\n",
       "      <td>0.081366</td>\n",
       "      <td>0.059416</td>\n",
       "      <td>-0.160925</td>\n",
       "      <td>-0.027026</td>\n",
       "      <td>-0.005899</td>\n",
       "      <td>-0.056545</td>\n",
       "      <td>-0.008879</td>\n",
       "      <td>-0.116955</td>\n",
       "      <td>0.035215</td>\n",
       "      <td>-0.096339</td>\n",
       "      <td>-0.130857</td>\n",
       "      <td>-0.073202</td>\n",
       "      <td>-0.019788</td>\n",
       "      <td>0.110325</td>\n",
       "      <td>1.000000</td>\n",
       "      <td>-0.020870</td>\n",
       "      <td>0.096050</td>\n",
       "    </tr>\n",
       "    <tr>\n",
       "      <th>month_sold</th>\n",
       "      <td>-0.023634</td>\n",
       "      <td>-0.010859</td>\n",
       "      <td>0.011129</td>\n",
       "      <td>0.000325</td>\n",
       "      <td>0.005926</td>\n",
       "      <td>0.002517</td>\n",
       "      <td>-0.014012</td>\n",
       "      <td>0.010560</td>\n",
       "      <td>-0.012723</td>\n",
       "      <td>0.010556</td>\n",
       "      <td>0.023096</td>\n",
       "      <td>0.016334</td>\n",
       "      <td>-0.004547</td>\n",
       "      <td>-0.038904</td>\n",
       "      <td>-0.020870</td>\n",
       "      <td>1.000000</td>\n",
       "      <td>-0.011023</td>\n",
       "    </tr>\n",
       "    <tr>\n",
       "      <th>structure_quality</th>\n",
       "      <td>0.391989</td>\n",
       "      <td>0.132893</td>\n",
       "      <td>0.044652</td>\n",
       "      <td>0.383995</td>\n",
       "      <td>-0.006686</td>\n",
       "      <td>0.173422</td>\n",
       "      <td>0.188030</td>\n",
       "      <td>-0.074075</td>\n",
       "      <td>0.209497</td>\n",
       "      <td>-0.034343</td>\n",
       "      <td>-0.330588</td>\n",
       "      <td>-0.248656</td>\n",
       "      <td>0.193529</td>\n",
       "      <td>0.009253</td>\n",
       "      <td>0.096050</td>\n",
       "      <td>-0.011023</td>\n",
       "      <td>1.000000</td>\n",
       "    </tr>\n",
       "  </tbody>\n",
       "</table>\n",
       "</div>"
      ],
      "text/plain": [
       "                   LATITUDE  LONGITUDE  PARCELNO  SALE_PRC  LND_SQFOOT  \\\n",
       "LATITUDE           1.000000   0.721232 -0.165487  0.047701   -0.077481   \n",
       "LONGITUDE          0.721232   1.000000 -0.432816  0.195274    0.018242   \n",
       "PARCELNO          -0.165487  -0.432816  1.000000 -0.204068    0.071381   \n",
       "SALE_PRC           0.047701   0.195274 -0.204068  1.000000    0.363077   \n",
       "LND_SQFOOT        -0.077481   0.018242  0.071381  0.363077    1.000000   \n",
       "TOT_LVG_AREA      -0.193972  -0.181007  0.102439  0.667301    0.437472   \n",
       "SPEC_FEAT_VAL     -0.007634  -0.009372  0.055152  0.497500    0.390707   \n",
       "RAIL_DIST         -0.172382  -0.303155  0.223387 -0.077009   -0.083901   \n",
       "OCEAN_DIST         0.242735  -0.457477  0.289232 -0.274675   -0.161579   \n",
       "WATER_DIST        -0.423396  -0.764256  0.295951 -0.127938   -0.055093   \n",
       "CNTR_DIST         -0.717348  -0.791968  0.419933 -0.271425   -0.023181   \n",
       "SUBCNTR_DI        -0.195823  -0.380220  0.243888 -0.370078   -0.159094   \n",
       "HWY_DIST          -0.113443  -0.216406  0.018247  0.231877    0.130488   \n",
       "age                0.416967   0.488757 -0.270718 -0.123408    0.101244   \n",
       "avno60plus         0.081366   0.059416 -0.160925 -0.027026   -0.005899   \n",
       "month_sold        -0.023634  -0.010859  0.011129  0.000325    0.005926   \n",
       "structure_quality  0.391989   0.132893  0.044652  0.383995   -0.006686   \n",
       "\n",
       "                   TOT_LVG_AREA  SPEC_FEAT_VAL  RAIL_DIST  OCEAN_DIST  \\\n",
       "LATITUDE              -0.193972      -0.007634  -0.172382    0.242735   \n",
       "LONGITUDE             -0.181007      -0.009372  -0.303155   -0.457477   \n",
       "PARCELNO               0.102439       0.055152   0.223387    0.289232   \n",
       "SALE_PRC               0.667301       0.497500  -0.077009   -0.274675   \n",
       "LND_SQFOOT             0.437472       0.390707  -0.083901   -0.161579   \n",
       "TOT_LVG_AREA           1.000000       0.506064   0.075486   -0.050141   \n",
       "SPEC_FEAT_VAL          0.506064       1.000000  -0.021965   -0.055155   \n",
       "RAIL_DIST              0.075486      -0.021965   1.000000    0.258966   \n",
       "OCEAN_DIST            -0.050141      -0.055155   0.258966    1.000000   \n",
       "WATER_DIST             0.148343       0.013923   0.162313    0.490764   \n",
       "CNTR_DIST              0.136526      -0.048817   0.444494    0.245396   \n",
       "SUBCNTR_DI            -0.044882      -0.151916   0.485468    0.425869   \n",
       "HWY_DIST               0.229497       0.153770  -0.092495    0.093500   \n",
       "age                   -0.340606      -0.098780  -0.234515   -0.159409   \n",
       "avno60plus            -0.056545      -0.008879  -0.116955    0.035215   \n",
       "month_sold             0.002517      -0.014012   0.010560   -0.012723   \n",
       "structure_quality      0.173422       0.188030  -0.074075    0.209497   \n",
       "\n",
       "                   WATER_DIST  CNTR_DIST  SUBCNTR_DI  HWY_DIST       age  \\\n",
       "LATITUDE            -0.423396  -0.717348   -0.195823 -0.113443  0.416967   \n",
       "LONGITUDE           -0.764256  -0.791968   -0.380220 -0.216406  0.488757   \n",
       "PARCELNO             0.295951   0.419933    0.243888  0.018247 -0.270718   \n",
       "SALE_PRC            -0.127938  -0.271425   -0.370078  0.231877 -0.123408   \n",
       "LND_SQFOOT          -0.055093  -0.023181   -0.159094  0.130488  0.101244   \n",
       "TOT_LVG_AREA         0.148343   0.136526   -0.044882  0.229497 -0.340606   \n",
       "SPEC_FEAT_VAL        0.013923  -0.048817   -0.151916  0.153770 -0.098780   \n",
       "RAIL_DIST            0.162313   0.444494    0.485468 -0.092495 -0.234515   \n",
       "OCEAN_DIST           0.490764   0.245396    0.425869  0.093500 -0.159409   \n",
       "WATER_DIST           1.000000   0.526952    0.195280  0.400233 -0.330578   \n",
       "CNTR_DIST            0.526952   1.000000    0.766387  0.076484 -0.548287   \n",
       "SUBCNTR_DI           0.195280   0.766387    1.000000 -0.093982 -0.385278   \n",
       "HWY_DIST             0.400233   0.076484   -0.093982  1.000000 -0.120505   \n",
       "age                 -0.330578  -0.548287   -0.385278 -0.120505  1.000000   \n",
       "avno60plus          -0.096339  -0.130857   -0.073202 -0.019788  0.110325   \n",
       "month_sold           0.010556   0.023096    0.016334 -0.004547 -0.038904   \n",
       "structure_quality   -0.034343  -0.330588   -0.248656  0.193529  0.009253   \n",
       "\n",
       "                   avno60plus  month_sold  structure_quality  \n",
       "LATITUDE             0.081366   -0.023634           0.391989  \n",
       "LONGITUDE            0.059416   -0.010859           0.132893  \n",
       "PARCELNO            -0.160925    0.011129           0.044652  \n",
       "SALE_PRC            -0.027026    0.000325           0.383995  \n",
       "LND_SQFOOT          -0.005899    0.005926          -0.006686  \n",
       "TOT_LVG_AREA        -0.056545    0.002517           0.173422  \n",
       "SPEC_FEAT_VAL       -0.008879   -0.014012           0.188030  \n",
       "RAIL_DIST           -0.116955    0.010560          -0.074075  \n",
       "OCEAN_DIST           0.035215   -0.012723           0.209497  \n",
       "WATER_DIST          -0.096339    0.010556          -0.034343  \n",
       "CNTR_DIST           -0.130857    0.023096          -0.330588  \n",
       "SUBCNTR_DI          -0.073202    0.016334          -0.248656  \n",
       "HWY_DIST            -0.019788   -0.004547           0.193529  \n",
       "age                  0.110325   -0.038904           0.009253  \n",
       "avno60plus           1.000000   -0.020870           0.096050  \n",
       "month_sold          -0.020870    1.000000          -0.011023  \n",
       "structure_quality    0.096050   -0.011023           1.000000  "
      ]
     },
     "execution_count": 6,
     "metadata": {},
     "output_type": "execute_result"
    }
   ],
   "source": [
    "# Correlation matrix of each feature\n",
    "corr = df.corr()\n",
    "corr"
   ]
  },
  {
   "cell_type": "code",
   "execution_count": 7,
   "id": "22750acd",
   "metadata": {
    "scrolled": true
   },
   "outputs": [
    {
     "data": {
      "text/html": [
       "<div>\n",
       "<style scoped>\n",
       "    .dataframe tbody tr th:only-of-type {\n",
       "        vertical-align: middle;\n",
       "    }\n",
       "\n",
       "    .dataframe tbody tr th {\n",
       "        vertical-align: top;\n",
       "    }\n",
       "\n",
       "    .dataframe thead th {\n",
       "        text-align: right;\n",
       "    }\n",
       "</style>\n",
       "<table border=\"1\" class=\"dataframe\">\n",
       "  <thead>\n",
       "    <tr style=\"text-align: right;\">\n",
       "      <th></th>\n",
       "      <th>SALE_PRC</th>\n",
       "      <th>LND_SQFOOT</th>\n",
       "      <th>TOT_LVG_AREA</th>\n",
       "      <th>SPEC_FEAT_VAL</th>\n",
       "      <th>structure_quality</th>\n",
       "    </tr>\n",
       "  </thead>\n",
       "  <tbody>\n",
       "    <tr>\n",
       "      <th>0</th>\n",
       "      <td>440000.0</td>\n",
       "      <td>9375</td>\n",
       "      <td>1753</td>\n",
       "      <td>0</td>\n",
       "      <td>4</td>\n",
       "    </tr>\n",
       "    <tr>\n",
       "      <th>1</th>\n",
       "      <td>349000.0</td>\n",
       "      <td>9375</td>\n",
       "      <td>1715</td>\n",
       "      <td>0</td>\n",
       "      <td>4</td>\n",
       "    </tr>\n",
       "    <tr>\n",
       "      <th>2</th>\n",
       "      <td>800000.0</td>\n",
       "      <td>9375</td>\n",
       "      <td>2276</td>\n",
       "      <td>49206</td>\n",
       "      <td>4</td>\n",
       "    </tr>\n",
       "    <tr>\n",
       "      <th>3</th>\n",
       "      <td>988000.0</td>\n",
       "      <td>12450</td>\n",
       "      <td>2058</td>\n",
       "      <td>10033</td>\n",
       "      <td>4</td>\n",
       "    </tr>\n",
       "    <tr>\n",
       "      <th>4</th>\n",
       "      <td>755000.0</td>\n",
       "      <td>12800</td>\n",
       "      <td>1684</td>\n",
       "      <td>16681</td>\n",
       "      <td>4</td>\n",
       "    </tr>\n",
       "  </tbody>\n",
       "</table>\n",
       "</div>"
      ],
      "text/plain": [
       "   SALE_PRC  LND_SQFOOT  TOT_LVG_AREA  SPEC_FEAT_VAL  structure_quality\n",
       "0  440000.0        9375          1753              0                  4\n",
       "1  349000.0        9375          1715              0                  4\n",
       "2  800000.0        9375          2276          49206                  4\n",
       "3  988000.0       12450          2058          10033                  4\n",
       "4  755000.0       12800          1684          16681                  4"
      ]
     },
     "execution_count": 7,
     "metadata": {},
     "output_type": "execute_result"
    }
   ],
   "source": [
    "# Drop unimportant columns\n",
    "df.drop(columns=['LATITUDE', 'LONGITUDE', 'PARCELNO', 'avno60plus', 'month_sold', 'age', 'RAIL_DIST',\n",
    "                'OCEAN_DIST', 'WATER_DIST', 'CNTR_DIST', 'SUBCNTR_DI', 'HWY_DIST'], inplace=True)\n",
    "df.head()"
   ]
  },
  {
   "cell_type": "code",
   "execution_count": 8,
   "id": "2c416ca4",
   "metadata": {},
   "outputs": [
    {
     "data": {
      "text/plain": [
       "(13932, 5)"
      ]
     },
     "execution_count": 8,
     "metadata": {},
     "output_type": "execute_result"
    }
   ],
   "source": [
    "df.shape"
   ]
  },
  {
   "cell_type": "code",
   "execution_count": 9,
   "id": "5e739ea2",
   "metadata": {
    "scrolled": true
   },
   "outputs": [
    {
     "data": {
      "text/plain": [
       "<AxesSubplot:>"
      ]
     },
     "execution_count": 9,
     "metadata": {},
     "output_type": "execute_result"
    },
    {
     "data": {
      "image/png": "[encoded data removed]",
      "text/plain": [
       "<Figure size 432x288 with 2 Axes>"
      ]
     },
     "metadata": {
      "needs_background": "light"
     },
     "output_type": "display_data"
    }
   ],
   "source": [
    "cmap = sb.color_palette(\"viridis\", as_cmap=True)\n",
    "sb.heatmap(corr, cmap=cmap)"
   ]
  },
  {
   "cell_type": "code",
   "execution_count": 10,
   "id": "eaab3106",
   "metadata": {},
   "outputs": [],
   "source": [
    "corr2 = df.corr()"
   ]
  },
  {
   "cell_type": "code",
   "execution_count": 11,
   "id": "8ddfad6a",
   "metadata": {},
   "outputs": [
    {
     "data": {
      "text/plain": [
       "<AxesSubplot:>"
      ]
     },
     "execution_count": 11,
     "metadata": {},
     "output_type": "execute_result"
    },
    {
     "data": {
      "image/png": "[encoded data removed]",
      "text/plain": [
       "<Figure size 432x288 with 2 Axes>"
      ]
     },
     "metadata": {
      "needs_background": "light"
     },
     "output_type": "display_data"
    }
   ],
   "source": [
    "cmap = sb.color_palette(\"rocket\", as_cmap=True)\n",
    "sb.heatmap(corr2,  annot=True, cmap=cmap, linewidth=.5)"
   ]
  },
  {
   "cell_type": "code",
   "execution_count": 12,
   "id": "236bb5be",
   "metadata": {},
   "outputs": [
    {
     "data": {
      "text/plain": [
       "SALE_PRC             float64\n",
       "LND_SQFOOT             int64\n",
       "TOT_LVG_AREA           int64\n",
       "SPEC_FEAT_VAL          int64\n",
       "structure_quality      int64\n",
       "dtype: object"
      ]
     },
     "execution_count": 12,
     "metadata": {},
     "output_type": "execute_result"
    }
   ],
   "source": [
    "df.dtypes"
   ]
  },
  {
   "cell_type": "code",
   "execution_count": 13,
   "id": "b833bc8b",
   "metadata": {},
   "outputs": [
    {
     "data": {
      "text/plain": [
       "array([4, 5, 2, 1, 3], dtype=int64)"
      ]
     },
     "execution_count": 13,
     "metadata": {},
     "output_type": "execute_result"
    }
   ],
   "source": [
    "df['structure_quality'].unique()"
   ]
  },
  {
   "cell_type": "code",
   "execution_count": 14,
   "id": "47f4c663",
   "metadata": {
    "scrolled": true
   },
   "outputs": [
    {
     "data": {
      "text/html": [
       "<div>\n",
       "<style scoped>\n",
       "    .dataframe tbody tr th:only-of-type {\n",
       "        vertical-align: middle;\n",
       "    }\n",
       "\n",
       "    .dataframe tbody tr th {\n",
       "        vertical-align: top;\n",
       "    }\n",
       "\n",
       "    .dataframe thead th {\n",
       "        text-align: right;\n",
       "    }\n",
       "</style>\n",
       "<table border=\"1\" class=\"dataframe\">\n",
       "  <thead>\n",
       "    <tr style=\"text-align: right;\">\n",
       "      <th></th>\n",
       "      <th>SALE_PRC</th>\n",
       "      <th>LND_SQFOOT</th>\n",
       "      <th>TOT_LVG_AREA</th>\n",
       "      <th>SPEC_FEAT_VAL</th>\n",
       "      <th>structure_quality</th>\n",
       "    </tr>\n",
       "  </thead>\n",
       "  <tbody>\n",
       "    <tr>\n",
       "      <th>count</th>\n",
       "      <td>1.393200e+04</td>\n",
       "      <td>13932.000000</td>\n",
       "      <td>13932.000000</td>\n",
       "      <td>13932.000000</td>\n",
       "      <td>13932.000000</td>\n",
       "    </tr>\n",
       "    <tr>\n",
       "      <th>mean</th>\n",
       "      <td>3.999419e+05</td>\n",
       "      <td>8620.879917</td>\n",
       "      <td>2058.044574</td>\n",
       "      <td>9562.493468</td>\n",
       "      <td>3.513997</td>\n",
       "    </tr>\n",
       "    <tr>\n",
       "      <th>std</th>\n",
       "      <td>3.172147e+05</td>\n",
       "      <td>6070.088742</td>\n",
       "      <td>813.538535</td>\n",
       "      <td>13890.967782</td>\n",
       "      <td>1.097444</td>\n",
       "    </tr>\n",
       "    <tr>\n",
       "      <th>min</th>\n",
       "      <td>7.200000e+04</td>\n",
       "      <td>1248.000000</td>\n",
       "      <td>854.000000</td>\n",
       "      <td>0.000000</td>\n",
       "      <td>1.000000</td>\n",
       "    </tr>\n",
       "    <tr>\n",
       "      <th>25%</th>\n",
       "      <td>2.350000e+05</td>\n",
       "      <td>5400.000000</td>\n",
       "      <td>1470.000000</td>\n",
       "      <td>810.000000</td>\n",
       "      <td>2.000000</td>\n",
       "    </tr>\n",
       "    <tr>\n",
       "      <th>50%</th>\n",
       "      <td>3.100000e+05</td>\n",
       "      <td>7500.000000</td>\n",
       "      <td>1877.500000</td>\n",
       "      <td>2765.500000</td>\n",
       "      <td>4.000000</td>\n",
       "    </tr>\n",
       "    <tr>\n",
       "      <th>75%</th>\n",
       "      <td>4.280000e+05</td>\n",
       "      <td>9126.250000</td>\n",
       "      <td>2471.000000</td>\n",
       "      <td>12352.250000</td>\n",
       "      <td>4.000000</td>\n",
       "    </tr>\n",
       "    <tr>\n",
       "      <th>max</th>\n",
       "      <td>2.650000e+06</td>\n",
       "      <td>57064.000000</td>\n",
       "      <td>6287.000000</td>\n",
       "      <td>175020.000000</td>\n",
       "      <td>5.000000</td>\n",
       "    </tr>\n",
       "  </tbody>\n",
       "</table>\n",
       "</div>"
      ],
      "text/plain": [
       "           SALE_PRC    LND_SQFOOT  TOT_LVG_AREA  SPEC_FEAT_VAL  \\\n",
       "count  1.393200e+04  13932.000000  13932.000000   13932.000000   \n",
       "mean   3.999419e+05   8620.879917   2058.044574    9562.493468   \n",
       "std    3.172147e+05   6070.088742    813.538535   13890.967782   \n",
       "min    7.200000e+04   1248.000000    854.000000       0.000000   \n",
       "25%    2.350000e+05   5400.000000   1470.000000     810.000000   \n",
       "50%    3.100000e+05   7500.000000   1877.500000    2765.500000   \n",
       "75%    4.280000e+05   9126.250000   2471.000000   12352.250000   \n",
       "max    2.650000e+06  57064.000000   6287.000000  175020.000000   \n",
       "\n",
       "       structure_quality  \n",
       "count       13932.000000  \n",
       "mean            3.513997  \n",
       "std             1.097444  \n",
       "min             1.000000  \n",
       "25%             2.000000  \n",
       "50%             4.000000  \n",
       "75%             4.000000  \n",
       "max             5.000000  "
      ]
     },
     "execution_count": 14,
     "metadata": {},
     "output_type": "execute_result"
    }
   ],
   "source": [
    "df.describe()"
   ]
  },
  {
   "cell_type": "code",
   "execution_count": 15,
   "id": "f203d5ae",
   "metadata": {},
   "outputs": [
    {
     "data": {
      "text/plain": [
       "<AxesSubplot:xlabel='LND_SQFOOT', ylabel='SALE_PRC'>"
      ]
     },
     "execution_count": 15,
     "metadata": {},
     "output_type": "execute_result"
    },
    {
     "data": {
      "image/png": "[encoded data removed]",
      "text/plain": [
       "<Figure size 432x288 with 1 Axes>"
      ]
     },
     "metadata": {
      "needs_background": "light"
     },
     "output_type": "display_data"
    }
   ],
   "source": [
    "sb.regplot(data=df, x=\"LND_SQFOOT\", y=\"SALE_PRC\")"
   ]
  },
  {
   "cell_type": "code",
   "execution_count": 16,
   "id": "b75add42",
   "metadata": {},
   "outputs": [
    {
     "data": {
      "text/plain": [
       "<AxesSubplot:xlabel='TOT_LVG_AREA', ylabel='SALE_PRC'>"
      ]
     },
     "execution_count": 16,
     "metadata": {},
     "output_type": "execute_result"
    },
    {
     "data": {
      "image/png": "[encoded data removed]",
      "text/plain": [
       "<Figure size 432x288 with 1 Axes>"
      ]
     },
     "metadata": {
      "needs_background": "light"
     },
     "output_type": "display_data"
    }
   ],
   "source": [
    "sb.regplot(data=df, x=\"TOT_LVG_AREA\", y=\"SALE_PRC\")"
   ]
  },
  {
   "cell_type": "code",
   "execution_count": 17,
   "id": "2a46e7ab",
   "metadata": {
    "scrolled": true
   },
   "outputs": [
    {
     "data": {
      "text/plain": [
       "<AxesSubplot:xlabel='SPEC_FEAT_VAL', ylabel='SALE_PRC'>"
      ]
     },
     "execution_count": 17,
     "metadata": {},
     "output_type": "execute_result"
    },
    {
     "data": {
      "image/png": "[encoded data removed]",
      "text/plain": [
       "<Figure size 432x288 with 1 Axes>"
      ]
     },
     "metadata": {
      "needs_background": "light"
     },
     "output_type": "display_data"
    }
   ],
   "source": [
    "sb.regplot(data=df, x=\"SPEC_FEAT_VAL\", y=\"SALE_PRC\")"
   ]
  },
  {
   "cell_type": "code",
   "execution_count": 18,
   "id": "a6bf91fb",
   "metadata": {
    "scrolled": false
   },
   "outputs": [
    {
     "data": {
      "text/plain": [
       "<AxesSubplot:xlabel='structure_quality', ylabel='SALE_PRC'>"
      ]
     },
     "execution_count": 18,
     "metadata": {},
     "output_type": "execute_result"
    },
    {
     "data": {
      "image/png": "[encoded data removed]",
      "text/plain": [
       "<Figure size 432x288 with 1 Axes>"
      ]
     },
     "metadata": {
      "needs_background": "light"
     },
     "output_type": "display_data"
    }
   ],
   "source": [
    "sb.regplot(data=df, x=\"structure_quality\", y=\"SALE_PRC\")"
   ]
  },
  {
   "cell_type": "code",
   "execution_count": 19,
   "id": "35ebac9e",
   "metadata": {},
   "outputs": [
    {
     "data": {
      "text/html": [
       "<div>\n",
       "<style scoped>\n",
       "    .dataframe tbody tr th:only-of-type {\n",
       "        vertical-align: middle;\n",
       "    }\n",
       "\n",
       "    .dataframe tbody tr th {\n",
       "        vertical-align: top;\n",
       "    }\n",
       "\n",
       "    .dataframe thead th {\n",
       "        text-align: right;\n",
       "    }\n",
       "</style>\n",
       "<table border=\"1\" class=\"dataframe\">\n",
       "  <thead>\n",
       "    <tr style=\"text-align: right;\">\n",
       "      <th></th>\n",
       "      <th>SALE_PRC</th>\n",
       "      <th>LND_SQFOOT</th>\n",
       "      <th>TOT_LVG_AREA</th>\n",
       "      <th>SPEC_FEAT_VAL</th>\n",
       "      <th>structure_quality</th>\n",
       "    </tr>\n",
       "  </thead>\n",
       "  <tbody>\n",
       "    <tr>\n",
       "      <th>0</th>\n",
       "      <td>440000.0</td>\n",
       "      <td>9375</td>\n",
       "      <td>1753</td>\n",
       "      <td>0</td>\n",
       "      <td>4</td>\n",
       "    </tr>\n",
       "    <tr>\n",
       "      <th>1</th>\n",
       "      <td>349000.0</td>\n",
       "      <td>9375</td>\n",
       "      <td>1715</td>\n",
       "      <td>0</td>\n",
       "      <td>4</td>\n",
       "    </tr>\n",
       "    <tr>\n",
       "      <th>2</th>\n",
       "      <td>800000.0</td>\n",
       "      <td>9375</td>\n",
       "      <td>2276</td>\n",
       "      <td>49206</td>\n",
       "      <td>4</td>\n",
       "    </tr>\n",
       "    <tr>\n",
       "      <th>3</th>\n",
       "      <td>988000.0</td>\n",
       "      <td>12450</td>\n",
       "      <td>2058</td>\n",
       "      <td>10033</td>\n",
       "      <td>4</td>\n",
       "    </tr>\n",
       "    <tr>\n",
       "      <th>4</th>\n",
       "      <td>755000.0</td>\n",
       "      <td>12800</td>\n",
       "      <td>1684</td>\n",
       "      <td>16681</td>\n",
       "      <td>4</td>\n",
       "    </tr>\n",
       "  </tbody>\n",
       "</table>\n",
       "</div>"
      ],
      "text/plain": [
       "   SALE_PRC  LND_SQFOOT  TOT_LVG_AREA  SPEC_FEAT_VAL  structure_quality\n",
       "0  440000.0        9375          1753              0                  4\n",
       "1  349000.0        9375          1715              0                  4\n",
       "2  800000.0        9375          2276          49206                  4\n",
       "3  988000.0       12450          2058          10033                  4\n",
       "4  755000.0       12800          1684          16681                  4"
      ]
     },
     "execution_count": 19,
     "metadata": {},
     "output_type": "execute_result"
    }
   ],
   "source": [
    "df.head()"
   ]
  },
  {
   "cell_type": "code",
   "execution_count": 21,
   "id": "1f406c84",
   "metadata": {},
   "outputs": [
    {
     "data": {
      "text/html": [
       "<div>\n",
       "<style scoped>\n",
       "    .dataframe tbody tr th:only-of-type {\n",
       "        vertical-align: middle;\n",
       "    }\n",
       "\n",
       "    .dataframe tbody tr th {\n",
       "        vertical-align: top;\n",
       "    }\n",
       "\n",
       "    .dataframe thead th {\n",
       "        text-align: right;\n",
       "    }\n",
       "</style>\n",
       "<table border=\"1\" class=\"dataframe\">\n",
       "  <thead>\n",
       "    <tr style=\"text-align: right;\">\n",
       "      <th></th>\n",
       "      <th>LND_SQFOOT</th>\n",
       "      <th>TOT_LVG_AREA</th>\n",
       "      <th>SPEC_FEAT_VAL</th>\n",
       "      <th>structure_quality</th>\n",
       "    </tr>\n",
       "  </thead>\n",
       "  <tbody>\n",
       "    <tr>\n",
       "      <th>0</th>\n",
       "      <td>9375</td>\n",
       "      <td>1753</td>\n",
       "      <td>0</td>\n",
       "      <td>4</td>\n",
       "    </tr>\n",
       "    <tr>\n",
       "      <th>1</th>\n",
       "      <td>9375</td>\n",
       "      <td>1715</td>\n",
       "      <td>0</td>\n",
       "      <td>4</td>\n",
       "    </tr>\n",
       "    <tr>\n",
       "      <th>2</th>\n",
       "      <td>9375</td>\n",
       "      <td>2276</td>\n",
       "      <td>49206</td>\n",
       "      <td>4</td>\n",
       "    </tr>\n",
       "    <tr>\n",
       "      <th>3</th>\n",
       "      <td>12450</td>\n",
       "      <td>2058</td>\n",
       "      <td>10033</td>\n",
       "      <td>4</td>\n",
       "    </tr>\n",
       "    <tr>\n",
       "      <th>4</th>\n",
       "      <td>12800</td>\n",
       "      <td>1684</td>\n",
       "      <td>16681</td>\n",
       "      <td>4</td>\n",
       "    </tr>\n",
       "    <tr>\n",
       "      <th>...</th>\n",
       "      <td>...</td>\n",
       "      <td>...</td>\n",
       "      <td>...</td>\n",
       "      <td>...</td>\n",
       "    </tr>\n",
       "    <tr>\n",
       "      <th>13927</th>\n",
       "      <td>6780</td>\n",
       "      <td>967</td>\n",
       "      <td>6580</td>\n",
       "      <td>4</td>\n",
       "    </tr>\n",
       "    <tr>\n",
       "      <th>13928</th>\n",
       "      <td>7500</td>\n",
       "      <td>1854</td>\n",
       "      <td>2544</td>\n",
       "      <td>4</td>\n",
       "    </tr>\n",
       "    <tr>\n",
       "      <th>13929</th>\n",
       "      <td>8460</td>\n",
       "      <td>1271</td>\n",
       "      <td>2064</td>\n",
       "      <td>4</td>\n",
       "    </tr>\n",
       "    <tr>\n",
       "      <th>13930</th>\n",
       "      <td>7500</td>\n",
       "      <td>1613</td>\n",
       "      <td>3136</td>\n",
       "      <td>4</td>\n",
       "    </tr>\n",
       "    <tr>\n",
       "      <th>13931</th>\n",
       "      <td>8833</td>\n",
       "      <td>1867</td>\n",
       "      <td>266</td>\n",
       "      <td>4</td>\n",
       "    </tr>\n",
       "  </tbody>\n",
       "</table>\n",
       "<p>13932 rows × 4 columns</p>\n",
       "</div>"
      ],
      "text/plain": [
       "       LND_SQFOOT  TOT_LVG_AREA  SPEC_FEAT_VAL  structure_quality\n",
       "0            9375          1753              0                  4\n",
       "1            9375          1715              0                  4\n",
       "2            9375          2276          49206                  4\n",
       "3           12450          2058          10033                  4\n",
       "4           12800          1684          16681                  4\n",
       "...           ...           ...            ...                ...\n",
       "13927        6780           967           6580                  4\n",
       "13928        7500          1854           2544                  4\n",
       "13929        8460          1271           2064                  4\n",
       "13930        7500          1613           3136                  4\n",
       "13931        8833          1867            266                  4\n",
       "\n",
       "[13932 rows x 4 columns]"
      ]
     },
     "execution_count": 21,
     "metadata": {},
     "output_type": "execute_result"
    }
   ],
   "source": [
    "# Create independent and dependent features\n",
    "x = df.iloc[:,1:]\n",
    "x"
   ]
  },
  {
   "cell_type": "code",
   "execution_count": 22,
   "id": "9f67c3db",
   "metadata": {},
   "outputs": [
    {
     "data": {
      "text/plain": [
       "0        440000.0\n",
       "1        349000.0\n",
       "2        800000.0\n",
       "3        988000.0\n",
       "4        755000.0\n",
       "           ...   \n",
       "13927    275000.0\n",
       "13928    340000.0\n",
       "13929    287500.0\n",
       "13930    315000.0\n",
       "13931    250000.0\n",
       "Name: SALE_PRC, Length: 13932, dtype: float64"
      ]
     },
     "execution_count": 22,
     "metadata": {},
     "output_type": "execute_result"
    }
   ],
   "source": [
    "y = df.iloc[:, 0]\n",
    "y"
   ]
  },
  {
   "cell_type": "code",
   "execution_count": 23,
   "id": "d7fb40a6",
   "metadata": {},
   "outputs": [],
   "source": [
    "# Normalize/Standardize data using scaler\n",
    "scaler = StandardScaler()"
   ]
  },
  {
   "cell_type": "code",
   "execution_count": 24,
   "id": "e3254196",
   "metadata": {},
   "outputs": [
    {
     "data": {
      "text/plain": [
       "array([[ 0.12423989, -0.37497366, -0.6884212 ,  0.44286615],\n",
       "       [ 0.12423989, -0.42168486, -0.6884212 ,  0.44286615],\n",
       "       [ 0.12423989,  0.26792001,  2.85400773,  0.44286615],\n",
       "       ...,\n",
       "       [-0.02650467, -0.9674684 , -0.5398301 ,  0.44286615],\n",
       "       [-0.18466289, -0.54706757, -0.46265489,  0.44286615],\n",
       "       [ 0.03494639, -0.23484005, -0.66927138,  0.44286615]])"
      ]
     },
     "execution_count": 24,
     "metadata": {},
     "output_type": "execute_result"
    }
   ],
   "source": [
    "scaler.fit_transform(x,y)"
   ]
  },
  {
   "cell_type": "code",
   "execution_count": 41,
   "id": "ff42a590",
   "metadata": {},
   "outputs": [],
   "source": [
    "# train test split on data\n",
    "x_train, x_test, y_train, y_test = train_test_split(x, y, test_size=0.3, random_state=0)"
   ]
  },
  {
   "cell_type": "code",
   "execution_count": 42,
   "id": "61c2f343",
   "metadata": {},
   "outputs": [],
   "source": [
    "lr = LinearRegression()"
   ]
  },
  {
   "cell_type": "code",
   "execution_count": 43,
   "id": "45d2d884",
   "metadata": {},
   "outputs": [
    {
     "data": {
      "text/plain": [
       "LinearRegression()"
      ]
     },
     "execution_count": 43,
     "metadata": {},
     "output_type": "execute_result"
    }
   ],
   "source": [
    "lr.fit(x_train, y_train)"
   ]
  },
  {
   "cell_type": "code",
   "execution_count": 44,
   "id": "f7560456",
   "metadata": {},
   "outputs": [
    {
     "data": {
      "text/plain": [
       "0.5516144386236199"
      ]
     },
     "execution_count": 44,
     "metadata": {},
     "output_type": "execute_result"
    }
   ],
   "source": [
    "lr.score(x_test, y_test)"
   ]
  },
  {
   "cell_type": "code",
   "execution_count": 45,
   "id": "38d4c7a6",
   "metadata": {},
   "outputs": [
    {
     "data": {
      "text/plain": [
       "{'copy_X': True,\n",
       " 'fit_intercept': True,\n",
       " 'n_jobs': None,\n",
       " 'normalize': 'deprecated',\n",
       " 'positive': False}"
      ]
     },
     "execution_count": 45,
     "metadata": {},
     "output_type": "execute_result"
    }
   ],
   "source": [
    "lr.get_params()"
   ]
  },
  {
   "cell_type": "code",
   "execution_count": null,
   "id": "68af5e6f",
   "metadata": {},
   "outputs": [],
   "source": []
  },
  {
   "cell_type": "markdown",
   "id": "e56dfebc",
   "metadata": {},
   "source": [
    "### Finding Outliers in Data with Statistical Methods\n",
    "<br>\n",
    "Will calulate the outliers using Interquartile Range (IQR). Using IQR, the outlier data points are the ones falling below Q1–1.5 IQR or above Q3 + 1.5 IQR. The Q1 is the 25th percentile and Q3 is the 75th percentile of the dataset, and IQR represents the interquartile range calculated by Q3 minus Q1 (Q3–Q1).Using the convenient pandas .quantile() function, we can create a simple Python function that takes in our column from the dataframe and outputs the outliers. "
   ]
  },
  {
   "cell_type": "code",
   "execution_count": 75,
   "id": "ecf5d669",
   "metadata": {},
   "outputs": [],
   "source": [
    "#create a function to find outliers using IQR\n",
    "\n",
    "def find_outliers_IQR(df):\n",
    "\n",
    "   q1=df.quantile(0.25)\n",
    "\n",
    "   q3=df.quantile(0.75)\n",
    "\n",
    "   IQR=q3-q1\n",
    "\n",
    "   outliers = df[((df<(q1-1.5*IQR)) | (df>(q3+1.5*IQR)))]\n",
    "\n",
    "   return outliers"
   ]
  },
  {
   "cell_type": "code",
   "execution_count": 82,
   "id": "1aa9bcc6",
   "metadata": {
    "scrolled": false
   },
   "outputs": [
    {
     "name": "stdout",
     "output_type": "stream",
     "text": [
      "number of outliers: 1370\n",
      "max outlier value: 57064\n",
      "min outlier value: 14726\n"
     ]
    },
    {
     "data": {
      "text/plain": [
       "22       18745\n",
       "31       15244\n",
       "66       15963\n",
       "103      16006\n",
       "158      17577\n",
       "         ...  \n",
       "13666    17500\n",
       "13676    15875\n",
       "13792    15000\n",
       "13794    15000\n",
       "13918    15000\n",
       "Name: LND_SQFOOT, Length: 1370, dtype: int64"
      ]
     },
     "execution_count": 82,
     "metadata": {},
     "output_type": "execute_result"
    }
   ],
   "source": [
    "outliers = find_outliers_IQR(df[\"LND_SQFOOT\"])\n",
    "\n",
    "print(\"number of outliers: \" + str(len(outliers)))\n",
    "\n",
    "print(\"max outlier value: \" + str(outliers.max()))\n",
    "\n",
    "print(\"min outlier value: \" + str(outliers.min()))\n",
    "\n",
    "outliers"
   ]
  },
  {
   "cell_type": "code",
   "execution_count": 102,
   "id": "005cb5c7",
   "metadata": {
    "scrolled": true
   },
   "outputs": [
    {
     "data": {
      "text/plain": [
       "13932"
      ]
     },
     "execution_count": 102,
     "metadata": {},
     "output_type": "execute_result"
    }
   ],
   "source": [
    "len(df[\"LND_SQFOOT\"])"
   ]
  },
  {
   "cell_type": "code",
   "execution_count": 107,
   "id": "75a9a4a7",
   "metadata": {},
   "outputs": [
    {
     "data": {
      "text/plain": [
       "12562"
      ]
     },
     "execution_count": 107,
     "metadata": {},
     "output_type": "execute_result"
    }
   ],
   "source": [
    "13932-1370"
   ]
  },
  {
   "cell_type": "code",
   "execution_count": 93,
   "id": "e585768e",
   "metadata": {
    "scrolled": true
   },
   "outputs": [
    {
     "name": "stdout",
     "output_type": "stream",
     "text": [
      "number of outliers: 447\n",
      "max outlier value: 6287\n",
      "min outlier value: 3973\n"
     ]
    },
    {
     "data": {
      "text/plain": [
       "19       4552\n",
       "22       3992\n",
       "25       4428\n",
       "27       4028\n",
       "36       4480\n",
       "         ... \n",
       "12070    4258\n",
       "12071    4553\n",
       "13086    4189\n",
       "13102    4495\n",
       "13109    5031\n",
       "Name: TOT_LVG_AREA, Length: 447, dtype: int64"
      ]
     },
     "execution_count": 93,
     "metadata": {},
     "output_type": "execute_result"
    }
   ],
   "source": [
    "outliers = find_outliers_IQR(df[\"TOT_LVG_AREA\"])\n",
    "\n",
    "print(\"number of outliers: \" + str(len(outliers)))\n",
    "\n",
    "print(\"max outlier value: \" + str(outliers.max()))\n",
    "\n",
    "print(\"min outlier value: \" + str(outliers.min()))\n",
    "\n",
    "outliers"
   ]
  },
  {
   "cell_type": "code",
   "execution_count": 103,
   "id": "bcf15b88",
   "metadata": {},
   "outputs": [
    {
     "data": {
      "text/plain": [
       "13932"
      ]
     },
     "execution_count": 103,
     "metadata": {},
     "output_type": "execute_result"
    }
   ],
   "source": [
    "len(df[\"TOT_LVG_AREA\"])"
   ]
  },
  {
   "cell_type": "code",
   "execution_count": 108,
   "id": "e4a52e11",
   "metadata": {},
   "outputs": [
    {
     "data": {
      "text/plain": [
       "13485"
      ]
     },
     "execution_count": 108,
     "metadata": {},
     "output_type": "execute_result"
    }
   ],
   "source": [
    "13932-447"
   ]
  },
  {
   "cell_type": "code",
   "execution_count": 96,
   "id": "9a73738b",
   "metadata": {
    "scrolled": false
   },
   "outputs": [
    {
     "name": "stdout",
     "output_type": "stream",
     "text": [
      "number of outliers: 1703\n",
      "max outlier value: 175020\n",
      "min outlier value: 29667\n"
     ]
    },
    {
     "data": {
      "text/plain": [
       "2        49206\n",
       "7        34933\n",
       "9        34580\n",
       "17       37975\n",
       "19       35124\n",
       "         ...  \n",
       "13795    33664\n",
       "13809    32602\n",
       "13811    39444\n",
       "13835    30159\n",
       "13857    32132\n",
       "Name: SPEC_FEAT_VAL, Length: 1703, dtype: int64"
      ]
     },
     "execution_count": 96,
     "metadata": {},
     "output_type": "execute_result"
    }
   ],
   "source": [
    "outliers = find_outliers_IQR(df[\"SPEC_FEAT_VAL\"])\n",
    "\n",
    "print(\"number of outliers: \" + str(len(outliers)))\n",
    "\n",
    "print(\"max outlier value: \" + str(outliers.max()))\n",
    "\n",
    "print(\"min outlier value: \" + str(outliers.min()))\n",
    "\n",
    "outliers"
   ]
  },
  {
   "cell_type": "code",
   "execution_count": 104,
   "id": "5dcf5d52",
   "metadata": {
    "scrolled": true
   },
   "outputs": [
    {
     "data": {
      "text/plain": [
       "13932"
      ]
     },
     "execution_count": 104,
     "metadata": {},
     "output_type": "execute_result"
    }
   ],
   "source": [
    "len(df[\"SPEC_FEAT_VAL\"])"
   ]
  },
  {
   "cell_type": "code",
   "execution_count": 109,
   "id": "c3da7b90",
   "metadata": {},
   "outputs": [
    {
     "data": {
      "text/plain": [
       "12229"
      ]
     },
     "execution_count": 109,
     "metadata": {},
     "output_type": "execute_result"
    }
   ],
   "source": [
    "13932-1703"
   ]
  },
  {
   "cell_type": "code",
   "execution_count": 83,
   "id": "44c8a32f",
   "metadata": {
    "scrolled": true
   },
   "outputs": [
    {
     "name": "stdout",
     "output_type": "stream",
     "text": [
      "number of outliers: 0\n",
      "max outlier value: nan\n",
      "min outlier value: nan\n"
     ]
    },
    {
     "data": {
      "text/plain": [
       "Series([], Name: structure_quality, dtype: int64)"
      ]
     },
     "execution_count": 83,
     "metadata": {},
     "output_type": "execute_result"
    }
   ],
   "source": [
    "outliers = find_outliers_IQR(df[\"structure_quality\"])\n",
    "\n",
    "print(\"number of outliers: \" + str(len(outliers)))\n",
    "\n",
    "print(\"max outlier value: \" + str(outliers.max()))\n",
    "\n",
    "print(\"min outlier value: \" + str(outliers.min()))\n",
    "\n",
    "outliers"
   ]
  },
  {
   "cell_type": "code",
   "execution_count": null,
   "id": "6f83fe72",
   "metadata": {},
   "outputs": [],
   "source": []
  },
  {
   "cell_type": "code",
   "execution_count": 105,
   "id": "52b75e26",
   "metadata": {},
   "outputs": [
    {
     "data": {
      "text/plain": [
       "13932"
      ]
     },
     "execution_count": 105,
     "metadata": {},
     "output_type": "execute_result"
    }
   ],
   "source": [
    "len(df[\"structure_quality\"])"
   ]
  },
  {
   "cell_type": "code",
   "execution_count": 122,
   "id": "d2726e2b",
   "metadata": {
    "scrolled": true
   },
   "outputs": [
    {
     "name": "stdout",
     "output_type": "stream",
     "text": [
      "number of outliers: 1340\n",
      "max outlier value: 2650000.0\n",
      "min outlier value: 718600.0\n"
     ]
    },
    {
     "data": {
      "text/plain": [
       "2         800000.0\n",
       "3         988000.0\n",
       "4         755000.0\n",
       "6        1020000.0\n",
       "7         850000.0\n",
       "           ...    \n",
       "12076     891100.0\n",
       "12077     745000.0\n",
       "12078     732500.0\n",
       "12079     740000.0\n",
       "13109     830000.0\n",
       "Name: SALE_PRC, Length: 1340, dtype: float64"
      ]
     },
     "execution_count": 122,
     "metadata": {},
     "output_type": "execute_result"
    }
   ],
   "source": [
    "outliers = find_outliers_IQR(df[\"SALE_PRC\"])\n",
    "\n",
    "print(\"number of outliers: \" + str(len(outliers)))\n",
    "\n",
    "print(\"max outlier value: \" + str(outliers.max()))\n",
    "\n",
    "print(\"min outlier value: \" + str(outliers.min()))\n",
    "\n",
    "outliers"
   ]
  },
  {
   "cell_type": "code",
   "execution_count": 123,
   "id": "19228027",
   "metadata": {},
   "outputs": [
    {
     "data": {
      "text/plain": [
       "13932"
      ]
     },
     "execution_count": 123,
     "metadata": {},
     "output_type": "execute_result"
    }
   ],
   "source": [
    "len(df[\"SALE_PRC\"])"
   ]
  },
  {
   "cell_type": "code",
   "execution_count": 124,
   "id": "f4a8970f",
   "metadata": {},
   "outputs": [
    {
     "data": {
      "text/plain": [
       "12592"
      ]
     },
     "execution_count": 124,
     "metadata": {},
     "output_type": "execute_result"
    }
   ],
   "source": [
    "13932-1340"
   ]
  },
  {
   "cell_type": "markdown",
   "id": "7c0f8296",
   "metadata": {},
   "source": [
    "### Dealing with the Outliers\n",
    "<br>\n",
    "Dropping the outliers will essentially exclude them from the analysis and modeling. "
   ]
  },
  {
   "cell_type": "code",
   "execution_count": 110,
   "id": "4e948051",
   "metadata": {},
   "outputs": [],
   "source": [
    "#create a function to drop outliers identified above\n",
    "\n",
    "def drop_outliers_IQR(df):\n",
    "    \n",
    "    q1=df.quantile(0.25)\n",
    "    \n",
    "    q3=df.quantile(0.75)\n",
    "    \n",
    "    IQR=q3-q1\n",
    "    \n",
    "    not_outliers = df[~((df<(q1-1.5*IQR)) | (df>(q3+1.5*IQR)))]\n",
    "    \n",
    "    outliers_dropped = outliers.dropna().reset_index()    \n",
    "\n",
    "    return not_outliers"
   ]
  },
  {
   "cell_type": "code",
   "execution_count": 125,
   "id": "a5aaf120",
   "metadata": {
    "scrolled": true
   },
   "outputs": [
    {
     "data": {
      "text/html": [
       "<div>\n",
       "<style scoped>\n",
       "    .dataframe tbody tr th:only-of-type {\n",
       "        vertical-align: middle;\n",
       "    }\n",
       "\n",
       "    .dataframe tbody tr th {\n",
       "        vertical-align: top;\n",
       "    }\n",
       "\n",
       "    .dataframe thead th {\n",
       "        text-align: right;\n",
       "    }\n",
       "</style>\n",
       "<table border=\"1\" class=\"dataframe\">\n",
       "  <thead>\n",
       "    <tr style=\"text-align: right;\">\n",
       "      <th></th>\n",
       "      <th>SALE_PRC</th>\n",
       "      <th>LND_SQFOOT</th>\n",
       "      <th>TOT_LVG_AREA</th>\n",
       "      <th>SPEC_FEAT_VAL</th>\n",
       "      <th>structure_quality</th>\n",
       "    </tr>\n",
       "  </thead>\n",
       "  <tbody>\n",
       "    <tr>\n",
       "      <th>0</th>\n",
       "      <td>440000.0</td>\n",
       "      <td>9375.0</td>\n",
       "      <td>1753.0</td>\n",
       "      <td>0.0</td>\n",
       "      <td>4</td>\n",
       "    </tr>\n",
       "    <tr>\n",
       "      <th>1</th>\n",
       "      <td>349000.0</td>\n",
       "      <td>9375.0</td>\n",
       "      <td>1715.0</td>\n",
       "      <td>0.0</td>\n",
       "      <td>4</td>\n",
       "    </tr>\n",
       "    <tr>\n",
       "      <th>2</th>\n",
       "      <td>NaN</td>\n",
       "      <td>9375.0</td>\n",
       "      <td>2276.0</td>\n",
       "      <td>NaN</td>\n",
       "      <td>4</td>\n",
       "    </tr>\n",
       "    <tr>\n",
       "      <th>3</th>\n",
       "      <td>NaN</td>\n",
       "      <td>12450.0</td>\n",
       "      <td>2058.0</td>\n",
       "      <td>10033.0</td>\n",
       "      <td>4</td>\n",
       "    </tr>\n",
       "    <tr>\n",
       "      <th>4</th>\n",
       "      <td>NaN</td>\n",
       "      <td>12800.0</td>\n",
       "      <td>1684.0</td>\n",
       "      <td>16681.0</td>\n",
       "      <td>4</td>\n",
       "    </tr>\n",
       "    <tr>\n",
       "      <th>...</th>\n",
       "      <td>...</td>\n",
       "      <td>...</td>\n",
       "      <td>...</td>\n",
       "      <td>...</td>\n",
       "      <td>...</td>\n",
       "    </tr>\n",
       "    <tr>\n",
       "      <th>13927</th>\n",
       "      <td>275000.0</td>\n",
       "      <td>6780.0</td>\n",
       "      <td>967.0</td>\n",
       "      <td>6580.0</td>\n",
       "      <td>4</td>\n",
       "    </tr>\n",
       "    <tr>\n",
       "      <th>13928</th>\n",
       "      <td>340000.0</td>\n",
       "      <td>7500.0</td>\n",
       "      <td>1854.0</td>\n",
       "      <td>2544.0</td>\n",
       "      <td>4</td>\n",
       "    </tr>\n",
       "    <tr>\n",
       "      <th>13929</th>\n",
       "      <td>287500.0</td>\n",
       "      <td>8460.0</td>\n",
       "      <td>1271.0</td>\n",
       "      <td>2064.0</td>\n",
       "      <td>4</td>\n",
       "    </tr>\n",
       "    <tr>\n",
       "      <th>13930</th>\n",
       "      <td>315000.0</td>\n",
       "      <td>7500.0</td>\n",
       "      <td>1613.0</td>\n",
       "      <td>3136.0</td>\n",
       "      <td>4</td>\n",
       "    </tr>\n",
       "    <tr>\n",
       "      <th>13931</th>\n",
       "      <td>250000.0</td>\n",
       "      <td>8833.0</td>\n",
       "      <td>1867.0</td>\n",
       "      <td>266.0</td>\n",
       "      <td>4</td>\n",
       "    </tr>\n",
       "  </tbody>\n",
       "</table>\n",
       "<p>13932 rows × 5 columns</p>\n",
       "</div>"
      ],
      "text/plain": [
       "       SALE_PRC  LND_SQFOOT  TOT_LVG_AREA  SPEC_FEAT_VAL  structure_quality\n",
       "0      440000.0      9375.0        1753.0            0.0                  4\n",
       "1      349000.0      9375.0        1715.0            0.0                  4\n",
       "2           NaN      9375.0        2276.0            NaN                  4\n",
       "3           NaN     12450.0        2058.0        10033.0                  4\n",
       "4           NaN     12800.0        1684.0        16681.0                  4\n",
       "...         ...         ...           ...            ...                ...\n",
       "13927  275000.0      6780.0         967.0         6580.0                  4\n",
       "13928  340000.0      7500.0        1854.0         2544.0                  4\n",
       "13929  287500.0      8460.0        1271.0         2064.0                  4\n",
       "13930  315000.0      7500.0        1613.0         3136.0                  4\n",
       "13931  250000.0      8833.0        1867.0          266.0                  4\n",
       "\n",
       "[13932 rows x 5 columns]"
      ]
     },
     "execution_count": 125,
     "metadata": {},
     "output_type": "execute_result"
    }
   ],
   "source": [
    "df2 = drop_outliers_IQR(df[[\"SALE_PRC\", \"LND_SQFOOT\", \"TOT_LVG_AREA\", \"SPEC_FEAT_VAL\", \"structure_quality\"]])\n",
    "df2"
   ]
  },
  {
   "cell_type": "code",
   "execution_count": 126,
   "id": "f948274e",
   "metadata": {
    "scrolled": true
   },
   "outputs": [
    {
     "data": {
      "text/plain": [
       "SALE_PRC             1340\n",
       "LND_SQFOOT           1370\n",
       "TOT_LVG_AREA          447\n",
       "SPEC_FEAT_VAL        1703\n",
       "structure_quality       0\n",
       "dtype: int64"
      ]
     },
     "execution_count": 126,
     "metadata": {},
     "output_type": "execute_result"
    }
   ],
   "source": [
    "# Check for any null or missing values by column\n",
    "df2.isnull().sum()"
   ]
  },
  {
   "cell_type": "markdown",
   "id": "7d414f92",
   "metadata": {},
   "source": [
    "Need to drop NULL values that were outliers in each column."
   ]
  },
  {
   "cell_type": "code",
   "execution_count": 127,
   "id": "73fbb9d1",
   "metadata": {},
   "outputs": [
    {
     "data": {
      "text/html": [
       "<div>\n",
       "<style scoped>\n",
       "    .dataframe tbody tr th:only-of-type {\n",
       "        vertical-align: middle;\n",
       "    }\n",
       "\n",
       "    .dataframe tbody tr th {\n",
       "        vertical-align: top;\n",
       "    }\n",
       "\n",
       "    .dataframe thead th {\n",
       "        text-align: right;\n",
       "    }\n",
       "</style>\n",
       "<table border=\"1\" class=\"dataframe\">\n",
       "  <thead>\n",
       "    <tr style=\"text-align: right;\">\n",
       "      <th></th>\n",
       "      <th>SALE_PRC</th>\n",
       "      <th>LND_SQFOOT</th>\n",
       "      <th>TOT_LVG_AREA</th>\n",
       "      <th>SPEC_FEAT_VAL</th>\n",
       "      <th>structure_quality</th>\n",
       "    </tr>\n",
       "  </thead>\n",
       "  <tbody>\n",
       "    <tr>\n",
       "      <th>0</th>\n",
       "      <td>440000.0</td>\n",
       "      <td>9375.0</td>\n",
       "      <td>1753.0</td>\n",
       "      <td>0.0</td>\n",
       "      <td>4</td>\n",
       "    </tr>\n",
       "    <tr>\n",
       "      <th>1</th>\n",
       "      <td>349000.0</td>\n",
       "      <td>9375.0</td>\n",
       "      <td>1715.0</td>\n",
       "      <td>0.0</td>\n",
       "      <td>4</td>\n",
       "    </tr>\n",
       "    <tr>\n",
       "      <th>5</th>\n",
       "      <td>630000.0</td>\n",
       "      <td>9900.0</td>\n",
       "      <td>1531.0</td>\n",
       "      <td>2978.0</td>\n",
       "      <td>4</td>\n",
       "    </tr>\n",
       "    <tr>\n",
       "      <th>8</th>\n",
       "      <td>250000.0</td>\n",
       "      <td>9375.0</td>\n",
       "      <td>1493.0</td>\n",
       "      <td>11668.0</td>\n",
       "      <td>4</td>\n",
       "    </tr>\n",
       "    <tr>\n",
       "      <th>11</th>\n",
       "      <td>260000.0</td>\n",
       "      <td>8438.0</td>\n",
       "      <td>1794.0</td>\n",
       "      <td>0.0</td>\n",
       "      <td>2</td>\n",
       "    </tr>\n",
       "    <tr>\n",
       "      <th>...</th>\n",
       "      <td>...</td>\n",
       "      <td>...</td>\n",
       "      <td>...</td>\n",
       "      <td>...</td>\n",
       "      <td>...</td>\n",
       "    </tr>\n",
       "    <tr>\n",
       "      <th>13927</th>\n",
       "      <td>275000.0</td>\n",
       "      <td>6780.0</td>\n",
       "      <td>967.0</td>\n",
       "      <td>6580.0</td>\n",
       "      <td>4</td>\n",
       "    </tr>\n",
       "    <tr>\n",
       "      <th>13928</th>\n",
       "      <td>340000.0</td>\n",
       "      <td>7500.0</td>\n",
       "      <td>1854.0</td>\n",
       "      <td>2544.0</td>\n",
       "      <td>4</td>\n",
       "    </tr>\n",
       "    <tr>\n",
       "      <th>13929</th>\n",
       "      <td>287500.0</td>\n",
       "      <td>8460.0</td>\n",
       "      <td>1271.0</td>\n",
       "      <td>2064.0</td>\n",
       "      <td>4</td>\n",
       "    </tr>\n",
       "    <tr>\n",
       "      <th>13930</th>\n",
       "      <td>315000.0</td>\n",
       "      <td>7500.0</td>\n",
       "      <td>1613.0</td>\n",
       "      <td>3136.0</td>\n",
       "      <td>4</td>\n",
       "    </tr>\n",
       "    <tr>\n",
       "      <th>13931</th>\n",
       "      <td>250000.0</td>\n",
       "      <td>8833.0</td>\n",
       "      <td>1867.0</td>\n",
       "      <td>266.0</td>\n",
       "      <td>4</td>\n",
       "    </tr>\n",
       "  </tbody>\n",
       "</table>\n",
       "<p>10826 rows × 5 columns</p>\n",
       "</div>"
      ],
      "text/plain": [
       "       SALE_PRC  LND_SQFOOT  TOT_LVG_AREA  SPEC_FEAT_VAL  structure_quality\n",
       "0      440000.0      9375.0        1753.0            0.0                  4\n",
       "1      349000.0      9375.0        1715.0            0.0                  4\n",
       "5      630000.0      9900.0        1531.0         2978.0                  4\n",
       "8      250000.0      9375.0        1493.0        11668.0                  4\n",
       "11     260000.0      8438.0        1794.0            0.0                  2\n",
       "...         ...         ...           ...            ...                ...\n",
       "13927  275000.0      6780.0         967.0         6580.0                  4\n",
       "13928  340000.0      7500.0        1854.0         2544.0                  4\n",
       "13929  287500.0      8460.0        1271.0         2064.0                  4\n",
       "13930  315000.0      7500.0        1613.0         3136.0                  4\n",
       "13931  250000.0      8833.0        1867.0          266.0                  4\n",
       "\n",
       "[10826 rows x 5 columns]"
      ]
     },
     "execution_count": 127,
     "metadata": {},
     "output_type": "execute_result"
    }
   ],
   "source": [
    "df3 = df2.dropna()\n",
    "df3"
   ]
  },
  {
   "cell_type": "code",
   "execution_count": 128,
   "id": "c036f0b6",
   "metadata": {},
   "outputs": [
    {
     "data": {
      "text/plain": [
       "SALE_PRC             0\n",
       "LND_SQFOOT           0\n",
       "TOT_LVG_AREA         0\n",
       "SPEC_FEAT_VAL        0\n",
       "structure_quality    0\n",
       "dtype: int64"
      ]
     },
     "execution_count": 128,
     "metadata": {},
     "output_type": "execute_result"
    }
   ],
   "source": [
    "df3.isnull().sum()"
   ]
  },
  {
   "cell_type": "markdown",
   "id": "13831403",
   "metadata": {},
   "source": [
    "Structure_quality is a categorical variable rating of the housing structure that can range between 1 - 5. To better improve the model, I will solve this by creating dummy variables for each rating using one-hot encoding which will produce 5 new columns for each rating score and signal to model whether rating is a 4 with \"1\" and \"0\" for no and so on for the other ratings."
   ]
  },
  {
   "cell_type": "code",
   "execution_count": 129,
   "id": "ce278180",
   "metadata": {},
   "outputs": [
    {
     "data": {
      "text/plain": [
       "Index(['SALE_PRC', 'LND_SQFOOT', 'TOT_LVG_AREA', 'SPEC_FEAT_VAL',\n",
       "       'structure_quality_1', 'structure_quality_2', 'structure_quality_3',\n",
       "       'structure_quality_4', 'structure_quality_5'],\n",
       "      dtype='object')"
      ]
     },
     "execution_count": 129,
     "metadata": {},
     "output_type": "execute_result"
    }
   ],
   "source": [
    "df4 = pd.get_dummies(data=df3, columns=['structure_quality'])\n",
    "df4.columns"
   ]
  },
  {
   "cell_type": "code",
   "execution_count": 130,
   "id": "9ec373e9",
   "metadata": {},
   "outputs": [
    {
     "data": {
      "text/html": [
       "<div>\n",
       "<style scoped>\n",
       "    .dataframe tbody tr th:only-of-type {\n",
       "        vertical-align: middle;\n",
       "    }\n",
       "\n",
       "    .dataframe tbody tr th {\n",
       "        vertical-align: top;\n",
       "    }\n",
       "\n",
       "    .dataframe thead th {\n",
       "        text-align: right;\n",
       "    }\n",
       "</style>\n",
       "<table border=\"1\" class=\"dataframe\">\n",
       "  <thead>\n",
       "    <tr style=\"text-align: right;\">\n",
       "      <th></th>\n",
       "      <th>LND_SQFOOT</th>\n",
       "      <th>TOT_LVG_AREA</th>\n",
       "      <th>SPEC_FEAT_VAL</th>\n",
       "      <th>structure_quality_1</th>\n",
       "      <th>structure_quality_2</th>\n",
       "      <th>structure_quality_3</th>\n",
       "      <th>structure_quality_4</th>\n",
       "      <th>structure_quality_5</th>\n",
       "    </tr>\n",
       "  </thead>\n",
       "  <tbody>\n",
       "    <tr>\n",
       "      <th>0</th>\n",
       "      <td>9375.0</td>\n",
       "      <td>1753.0</td>\n",
       "      <td>0.0</td>\n",
       "      <td>0</td>\n",
       "      <td>0</td>\n",
       "      <td>0</td>\n",
       "      <td>1</td>\n",
       "      <td>0</td>\n",
       "    </tr>\n",
       "    <tr>\n",
       "      <th>1</th>\n",
       "      <td>9375.0</td>\n",
       "      <td>1715.0</td>\n",
       "      <td>0.0</td>\n",
       "      <td>0</td>\n",
       "      <td>0</td>\n",
       "      <td>0</td>\n",
       "      <td>1</td>\n",
       "      <td>0</td>\n",
       "    </tr>\n",
       "    <tr>\n",
       "      <th>5</th>\n",
       "      <td>9900.0</td>\n",
       "      <td>1531.0</td>\n",
       "      <td>2978.0</td>\n",
       "      <td>0</td>\n",
       "      <td>0</td>\n",
       "      <td>0</td>\n",
       "      <td>1</td>\n",
       "      <td>0</td>\n",
       "    </tr>\n",
       "    <tr>\n",
       "      <th>8</th>\n",
       "      <td>9375.0</td>\n",
       "      <td>1493.0</td>\n",
       "      <td>11668.0</td>\n",
       "      <td>0</td>\n",
       "      <td>0</td>\n",
       "      <td>0</td>\n",
       "      <td>1</td>\n",
       "      <td>0</td>\n",
       "    </tr>\n",
       "    <tr>\n",
       "      <th>11</th>\n",
       "      <td>8438.0</td>\n",
       "      <td>1794.0</td>\n",
       "      <td>0.0</td>\n",
       "      <td>0</td>\n",
       "      <td>1</td>\n",
       "      <td>0</td>\n",
       "      <td>0</td>\n",
       "      <td>0</td>\n",
       "    </tr>\n",
       "    <tr>\n",
       "      <th>...</th>\n",
       "      <td>...</td>\n",
       "      <td>...</td>\n",
       "      <td>...</td>\n",
       "      <td>...</td>\n",
       "      <td>...</td>\n",
       "      <td>...</td>\n",
       "      <td>...</td>\n",
       "      <td>...</td>\n",
       "    </tr>\n",
       "    <tr>\n",
       "      <th>13927</th>\n",
       "      <td>6780.0</td>\n",
       "      <td>967.0</td>\n",
       "      <td>6580.0</td>\n",
       "      <td>0</td>\n",
       "      <td>0</td>\n",
       "      <td>0</td>\n",
       "      <td>1</td>\n",
       "      <td>0</td>\n",
       "    </tr>\n",
       "    <tr>\n",
       "      <th>13928</th>\n",
       "      <td>7500.0</td>\n",
       "      <td>1854.0</td>\n",
       "      <td>2544.0</td>\n",
       "      <td>0</td>\n",
       "      <td>0</td>\n",
       "      <td>0</td>\n",
       "      <td>1</td>\n",
       "      <td>0</td>\n",
       "    </tr>\n",
       "    <tr>\n",
       "      <th>13929</th>\n",
       "      <td>8460.0</td>\n",
       "      <td>1271.0</td>\n",
       "      <td>2064.0</td>\n",
       "      <td>0</td>\n",
       "      <td>0</td>\n",
       "      <td>0</td>\n",
       "      <td>1</td>\n",
       "      <td>0</td>\n",
       "    </tr>\n",
       "    <tr>\n",
       "      <th>13930</th>\n",
       "      <td>7500.0</td>\n",
       "      <td>1613.0</td>\n",
       "      <td>3136.0</td>\n",
       "      <td>0</td>\n",
       "      <td>0</td>\n",
       "      <td>0</td>\n",
       "      <td>1</td>\n",
       "      <td>0</td>\n",
       "    </tr>\n",
       "    <tr>\n",
       "      <th>13931</th>\n",
       "      <td>8833.0</td>\n",
       "      <td>1867.0</td>\n",
       "      <td>266.0</td>\n",
       "      <td>0</td>\n",
       "      <td>0</td>\n",
       "      <td>0</td>\n",
       "      <td>1</td>\n",
       "      <td>0</td>\n",
       "    </tr>\n",
       "  </tbody>\n",
       "</table>\n",
       "<p>10826 rows × 8 columns</p>\n",
       "</div>"
      ],
      "text/plain": [
       "       LND_SQFOOT  TOT_LVG_AREA  SPEC_FEAT_VAL  structure_quality_1  \\\n",
       "0          9375.0        1753.0            0.0                    0   \n",
       "1          9375.0        1715.0            0.0                    0   \n",
       "5          9900.0        1531.0         2978.0                    0   \n",
       "8          9375.0        1493.0        11668.0                    0   \n",
       "11         8438.0        1794.0            0.0                    0   \n",
       "...           ...           ...            ...                  ...   \n",
       "13927      6780.0         967.0         6580.0                    0   \n",
       "13928      7500.0        1854.0         2544.0                    0   \n",
       "13929      8460.0        1271.0         2064.0                    0   \n",
       "13930      7500.0        1613.0         3136.0                    0   \n",
       "13931      8833.0        1867.0          266.0                    0   \n",
       "\n",
       "       structure_quality_2  structure_quality_3  structure_quality_4  \\\n",
       "0                        0                    0                    1   \n",
       "1                        0                    0                    1   \n",
       "5                        0                    0                    1   \n",
       "8                        0                    0                    1   \n",
       "11                       1                    0                    0   \n",
       "...                    ...                  ...                  ...   \n",
       "13927                    0                    0                    1   \n",
       "13928                    0                    0                    1   \n",
       "13929                    0                    0                    1   \n",
       "13930                    0                    0                    1   \n",
       "13931                    0                    0                    1   \n",
       "\n",
       "       structure_quality_5  \n",
       "0                        0  \n",
       "1                        0  \n",
       "5                        0  \n",
       "8                        0  \n",
       "11                       0  \n",
       "...                    ...  \n",
       "13927                    0  \n",
       "13928                    0  \n",
       "13929                    0  \n",
       "13930                    0  \n",
       "13931                    0  \n",
       "\n",
       "[10826 rows x 8 columns]"
      ]
     },
     "execution_count": 130,
     "metadata": {},
     "output_type": "execute_result"
    }
   ],
   "source": [
    "# Create independent and dependent features\n",
    "x = df4.iloc[:,1:]\n",
    "x"
   ]
  },
  {
   "cell_type": "code",
   "execution_count": 131,
   "id": "32d15abe",
   "metadata": {
    "scrolled": true
   },
   "outputs": [
    {
     "data": {
      "text/plain": [
       "0        440000.0\n",
       "1        349000.0\n",
       "5        630000.0\n",
       "8        250000.0\n",
       "11       260000.0\n",
       "           ...   \n",
       "13927    275000.0\n",
       "13928    340000.0\n",
       "13929    287500.0\n",
       "13930    315000.0\n",
       "13931    250000.0\n",
       "Name: SALE_PRC, Length: 10826, dtype: float64"
      ]
     },
     "execution_count": 131,
     "metadata": {},
     "output_type": "execute_result"
    }
   ],
   "source": [
    "y = df4.iloc[:, 0]\n",
    "y"
   ]
  },
  {
   "cell_type": "code",
   "execution_count": 12,
   "id": "e4d4cbdd",
   "metadata": {
    "scrolled": true
   },
   "outputs": [],
   "source": [
    "# x = x.to_numpy()\n",
    "# x"
   ]
  },
  {
   "cell_type": "code",
   "execution_count": 132,
   "id": "96512e34",
   "metadata": {},
   "outputs": [
    {
     "data": {
      "text/plain": [
       "(10826, 8)"
      ]
     },
     "execution_count": 132,
     "metadata": {},
     "output_type": "execute_result"
    }
   ],
   "source": [
    "x.shape"
   ]
  },
  {
   "cell_type": "code",
   "execution_count": 14,
   "id": "a3730151",
   "metadata": {
    "scrolled": true
   },
   "outputs": [],
   "source": [
    "# y = y.to_numpy()\n",
    "# y"
   ]
  },
  {
   "cell_type": "code",
   "execution_count": 133,
   "id": "42eedcf8",
   "metadata": {},
   "outputs": [
    {
     "data": {
      "text/plain": [
       "(10826,)"
      ]
     },
     "execution_count": 133,
     "metadata": {},
     "output_type": "execute_result"
    }
   ],
   "source": [
    "y.shape"
   ]
  },
  {
   "cell_type": "code",
   "execution_count": 16,
   "id": "0d70471b",
   "metadata": {},
   "outputs": [],
   "source": [
    "# y = y.reshape((13932,1))\n",
    "# y"
   ]
  },
  {
   "cell_type": "code",
   "execution_count": 142,
   "id": "dce9b4d0",
   "metadata": {},
   "outputs": [
    {
     "data": {
      "text/plain": [
       "<seaborn.axisgrid.FacetGrid at 0x20b60feacd0>"
      ]
     },
     "execution_count": 142,
     "metadata": {},
     "output_type": "execute_result"
    },
    {
     "data": {
      "image/png": "[encoded data removed]",
      "text/plain": [
       "<Figure size 360x360 with 1 Axes>"
      ]
     },
     "metadata": {
      "needs_background": "light"
     },
     "output_type": "display_data"
    }
   ],
   "source": [
    "sb.displot(data=df3, x=\"LND_SQFOOT\", kde=True)"
   ]
  },
  {
   "cell_type": "code",
   "execution_count": 143,
   "id": "140c651a",
   "metadata": {},
   "outputs": [
    {
     "data": {
      "text/plain": [
       "<seaborn.axisgrid.FacetGrid at 0x20b611a36a0>"
      ]
     },
     "execution_count": 143,
     "metadata": {},
     "output_type": "execute_result"
    },
    {
     "data": {
      "image/png": "[encoded data removed]",
      "text/plain": [
       "<Figure size 360x360 with 1 Axes>"
      ]
     },
     "metadata": {
      "needs_background": "light"
     },
     "output_type": "display_data"
    }
   ],
   "source": [
    "sb.displot(data=df3, x=\"TOT_LVG_AREA\", kde=True)"
   ]
  },
  {
   "cell_type": "code",
   "execution_count": 144,
   "id": "4c2eff47",
   "metadata": {
    "scrolled": true
   },
   "outputs": [
    {
     "data": {
      "text/plain": [
       "<seaborn.axisgrid.FacetGrid at 0x20b612b7760>"
      ]
     },
     "execution_count": 144,
     "metadata": {},
     "output_type": "execute_result"
    },
    {
     "data": {
      "image/png": "[encoded data removed]",
      "text/plain": [
       "<Figure size 360x360 with 1 Axes>"
      ]
     },
     "metadata": {
      "needs_background": "light"
     },
     "output_type": "display_data"
    }
   ],
   "source": [
    "sb.displot(data=df3, x=\"SPEC_FEAT_VAL\", kde=True)"
   ]
  },
  {
   "cell_type": "code",
   "execution_count": 145,
   "id": "770e2b1f",
   "metadata": {},
   "outputs": [
    {
     "data": {
      "text/html": [
       "<div>\n",
       "<style scoped>\n",
       "    .dataframe tbody tr th:only-of-type {\n",
       "        vertical-align: middle;\n",
       "    }\n",
       "\n",
       "    .dataframe tbody tr th {\n",
       "        vertical-align: top;\n",
       "    }\n",
       "\n",
       "    .dataframe thead th {\n",
       "        text-align: right;\n",
       "    }\n",
       "</style>\n",
       "<table border=\"1\" class=\"dataframe\">\n",
       "  <thead>\n",
       "    <tr style=\"text-align: right;\">\n",
       "      <th></th>\n",
       "      <th>SALE_PRC</th>\n",
       "      <th>LND_SQFOOT</th>\n",
       "      <th>TOT_LVG_AREA</th>\n",
       "      <th>SPEC_FEAT_VAL</th>\n",
       "      <th>structure_quality</th>\n",
       "    </tr>\n",
       "  </thead>\n",
       "  <tbody>\n",
       "    <tr>\n",
       "      <th>count</th>\n",
       "      <td>10826.000000</td>\n",
       "      <td>10826.000000</td>\n",
       "      <td>10826.000000</td>\n",
       "      <td>10826.000000</td>\n",
       "      <td>10826.000000</td>\n",
       "    </tr>\n",
       "    <tr>\n",
       "      <th>mean</th>\n",
       "      <td>294515.407999</td>\n",
       "      <td>6873.672825</td>\n",
       "      <td>1814.253926</td>\n",
       "      <td>4490.150563</td>\n",
       "      <td>3.405321</td>\n",
       "    </tr>\n",
       "    <tr>\n",
       "      <th>std</th>\n",
       "      <td>113386.488760</td>\n",
       "      <td>2224.309248</td>\n",
       "      <td>566.752084</td>\n",
       "      <td>6810.738821</td>\n",
       "      <td>1.088994</td>\n",
       "    </tr>\n",
       "    <tr>\n",
       "      <th>min</th>\n",
       "      <td>72000.000000</td>\n",
       "      <td>1248.000000</td>\n",
       "      <td>854.000000</td>\n",
       "      <td>0.000000</td>\n",
       "      <td>1.000000</td>\n",
       "    </tr>\n",
       "    <tr>\n",
       "      <th>25%</th>\n",
       "      <td>217000.000000</td>\n",
       "      <td>5100.000000</td>\n",
       "      <td>1388.000000</td>\n",
       "      <td>495.000000</td>\n",
       "      <td>2.000000</td>\n",
       "    </tr>\n",
       "    <tr>\n",
       "      <th>50%</th>\n",
       "      <td>280000.000000</td>\n",
       "      <td>6900.000000</td>\n",
       "      <td>1714.000000</td>\n",
       "      <td>2028.500000</td>\n",
       "      <td>4.000000</td>\n",
       "    </tr>\n",
       "    <tr>\n",
       "      <th>75%</th>\n",
       "      <td>350000.000000</td>\n",
       "      <td>8056.000000</td>\n",
       "      <td>2163.000000</td>\n",
       "      <td>4637.000000</td>\n",
       "      <td>4.000000</td>\n",
       "    </tr>\n",
       "    <tr>\n",
       "      <th>max</th>\n",
       "      <td>716000.000000</td>\n",
       "      <td>14703.000000</td>\n",
       "      <td>3942.000000</td>\n",
       "      <td>29648.000000</td>\n",
       "      <td>5.000000</td>\n",
       "    </tr>\n",
       "  </tbody>\n",
       "</table>\n",
       "</div>"
      ],
      "text/plain": [
       "            SALE_PRC    LND_SQFOOT  TOT_LVG_AREA  SPEC_FEAT_VAL  \\\n",
       "count   10826.000000  10826.000000  10826.000000   10826.000000   \n",
       "mean   294515.407999   6873.672825   1814.253926    4490.150563   \n",
       "std    113386.488760   2224.309248    566.752084    6810.738821   \n",
       "min     72000.000000   1248.000000    854.000000       0.000000   \n",
       "25%    217000.000000   5100.000000   1388.000000     495.000000   \n",
       "50%    280000.000000   6900.000000   1714.000000    2028.500000   \n",
       "75%    350000.000000   8056.000000   2163.000000    4637.000000   \n",
       "max    716000.000000  14703.000000   3942.000000   29648.000000   \n",
       "\n",
       "       structure_quality  \n",
       "count       10826.000000  \n",
       "mean            3.405321  \n",
       "std             1.088994  \n",
       "min             1.000000  \n",
       "25%             2.000000  \n",
       "50%             4.000000  \n",
       "75%             4.000000  \n",
       "max             5.000000  "
      ]
     },
     "execution_count": 145,
     "metadata": {},
     "output_type": "execute_result"
    }
   ],
   "source": [
    "df3.describe()"
   ]
  },
  {
   "cell_type": "code",
   "execution_count": 181,
   "id": "b08d4c5b",
   "metadata": {},
   "outputs": [],
   "source": [
    "# train test split on data\n",
    "x_train, x_test, y_train, y_test = train_test_split(x, y, test_size=0.3)"
   ]
  },
  {
   "cell_type": "code",
   "execution_count": 147,
   "id": "8f947869",
   "metadata": {},
   "outputs": [
    {
     "data": {
      "text/plain": [
       "(7578, 8)"
      ]
     },
     "execution_count": 147,
     "metadata": {},
     "output_type": "execute_result"
    }
   ],
   "source": [
    "x_train.shape"
   ]
  },
  {
   "cell_type": "code",
   "execution_count": 155,
   "id": "f866e2c4",
   "metadata": {
    "scrolled": true
   },
   "outputs": [
    {
     "name": "stderr",
     "output_type": "stream",
     "text": [
      "C:\\Users\\S537849\\Anaconda3\\envs\\ML\\lib\\site-packages\\seaborn\\distributions.py:2619: FutureWarning: `distplot` is a deprecated function and will be removed in a future version. Please adapt your code to use either `displot` (a figure-level function with similar flexibility) or `histplot` (an axes-level function for histograms).\n",
      "  warnings.warn(msg, FutureWarning)\n"
     ]
    },
    {
     "data": {
      "text/plain": [
       "<AxesSubplot:ylabel='Density'>"
      ]
     },
     "execution_count": 155,
     "metadata": {},
     "output_type": "execute_result"
    },
    {
     "data": {
      "image/png": "[encoded data removed]",
      "text/plain": [
       "<Figure size 432x288 with 1 Axes>"
      ]
     },
     "metadata": {
      "needs_background": "light"
     },
     "output_type": "display_data"
    }
   ],
   "source": [
    "sb.distplot(x_train)"
   ]
  },
  {
   "cell_type": "code",
   "execution_count": 148,
   "id": "45953bf8",
   "metadata": {
    "scrolled": true
   },
   "outputs": [
    {
     "data": {
      "text/plain": [
       "(7578,)"
      ]
     },
     "execution_count": 148,
     "metadata": {},
     "output_type": "execute_result"
    }
   ],
   "source": [
    "y_train.shape"
   ]
  },
  {
   "cell_type": "code",
   "execution_count": 149,
   "id": "e401c29c",
   "metadata": {},
   "outputs": [
    {
     "data": {
      "text/plain": [
       "(3248, 8)"
      ]
     },
     "execution_count": 149,
     "metadata": {},
     "output_type": "execute_result"
    }
   ],
   "source": [
    "x_test.shape"
   ]
  },
  {
   "cell_type": "code",
   "execution_count": 150,
   "id": "9312bbf6",
   "metadata": {
    "scrolled": true
   },
   "outputs": [
    {
     "data": {
      "text/plain": [
       "(3248,)"
      ]
     },
     "execution_count": 150,
     "metadata": {},
     "output_type": "execute_result"
    }
   ],
   "source": [
    "y_test.shape"
   ]
  },
  {
   "cell_type": "markdown",
   "id": "30f9cd9c",
   "metadata": {},
   "source": [
    "## Checking Distribution"
   ]
  },
  {
   "cell_type": "code",
   "execution_count": 56,
   "id": "1ac7bad0",
   "metadata": {},
   "outputs": [
    {
     "name": "stderr",
     "output_type": "stream",
     "text": [
      "C:\\Users\\S537849\\Anaconda3\\envs\\ML\\lib\\site-packages\\seaborn\\distributions.py:2619: FutureWarning: `distplot` is a deprecated function and will be removed in a future version. Please adapt your code to use either `displot` (a figure-level function with similar flexibility) or `histplot` (an axes-level function for histograms).\n",
      "  warnings.warn(msg, FutureWarning)\n"
     ]
    },
    {
     "data": {
      "text/plain": [
       "<AxesSubplot:ylabel='Density'>"
      ]
     },
     "execution_count": 56,
     "metadata": {},
     "output_type": "execute_result"
    },
    {
     "data": {
      "image/png": "[encoded data removed]",
      "text/plain": [
       "<Figure size 432x288 with 1 Axes>"
      ]
     },
     "metadata": {
      "needs_background": "light"
     },
     "output_type": "display_data"
    }
   ],
   "source": [
    "sb.distplot(x, bins=30)"
   ]
  },
  {
   "cell_type": "code",
   "execution_count": 156,
   "id": "3c890470",
   "metadata": {},
   "outputs": [],
   "source": [
    "# Normalize/Standardize data using scaler\n",
    "scaler = StandardScaler()"
   ]
  },
  {
   "cell_type": "markdown",
   "id": "717278ca",
   "metadata": {},
   "source": [
    "Standard scaler will be very important to getting all of the data points on the same scale in order for gradient descent to reach global minimum in linear regression step and converge faster."
   ]
  },
  {
   "cell_type": "code",
   "execution_count": 182,
   "id": "ed104864",
   "metadata": {},
   "outputs": [],
   "source": [
    "x_train_scale = scaler.fit_transform(x_train)"
   ]
  },
  {
   "cell_type": "code",
   "execution_count": 159,
   "id": "868e84f3",
   "metadata": {
    "scrolled": true
   },
   "outputs": [
    {
     "name": "stderr",
     "output_type": "stream",
     "text": [
      "C:\\Users\\S537849\\Anaconda3\\envs\\ML\\lib\\site-packages\\seaborn\\distributions.py:2619: FutureWarning: `distplot` is a deprecated function and will be removed in a future version. Please adapt your code to use either `displot` (a figure-level function with similar flexibility) or `histplot` (an axes-level function for histograms).\n",
      "  warnings.warn(msg, FutureWarning)\n"
     ]
    },
    {
     "data": {
      "text/plain": [
       "<AxesSubplot:ylabel='Density'>"
      ]
     },
     "execution_count": 159,
     "metadata": {},
     "output_type": "execute_result"
    },
    {
     "data": {
      "image/png": "[encoded data removed]",
      "text/plain": [
       "<Figure size 432x288 with 1 Axes>"
      ]
     },
     "metadata": {
      "needs_background": "light"
     },
     "output_type": "display_data"
    }
   ],
   "source": [
    "sb.distplot(x_train, bins=5)"
   ]
  },
  {
   "cell_type": "code",
   "execution_count": 65,
   "id": "d82f70e9",
   "metadata": {
    "scrolled": true
   },
   "outputs": [
    {
     "data": {
      "text/plain": [
       "<AxesSubplot:xlabel='LND_SQFOOT', ylabel='SALE_PRC'>"
      ]
     },
     "execution_count": 65,
     "metadata": {},
     "output_type": "execute_result"
    },
    {
     "data": {
      "image/png": "[encoded data removed]",
      "text/plain": [
       "<Figure size 432x288 with 1 Axes>"
      ]
     },
     "metadata": {
      "needs_background": "light"
     },
     "output_type": "display_data"
    }
   ],
   "source": []
  },
  {
   "cell_type": "code",
   "execution_count": 24,
   "id": "635e3148",
   "metadata": {},
   "outputs": [],
   "source": [
    "#x_train"
   ]
  },
  {
   "cell_type": "code",
   "execution_count": 183,
   "id": "d2bb5932",
   "metadata": {},
   "outputs": [],
   "source": [
    "x_test_scale = scaler.transform(x_test)"
   ]
  },
  {
   "cell_type": "code",
   "execution_count": 1,
   "id": "28037727",
   "metadata": {},
   "outputs": [
    {
     "ename": "NameError",
     "evalue": "name 'x_train_scale' is not defined",
     "output_type": "error",
     "traceback": [
      "\u001b[1;31m---------------------------------------------------------------------------\u001b[0m",
      "\u001b[1;31mNameError\u001b[0m                                 Traceback (most recent call last)",
      "Input \u001b[1;32mIn [1]\u001b[0m, in \u001b[0;36m<cell line: 1>\u001b[1;34m()\u001b[0m\n\u001b[1;32m----> 1\u001b[0m \u001b[43mx_train_scale\u001b[49m\u001b[38;5;241m.\u001b[39mshape\n",
      "\u001b[1;31mNameError\u001b[0m: name 'x_train_scale' is not defined"
     ]
    }
   ],
   "source": [
    "#x_train_scale.shape"
   ]
  },
  {
   "cell_type": "markdown",
   "id": "090e03ad",
   "metadata": {},
   "source": [
    "## Model Training"
   ]
  },
  {
   "cell_type": "code",
   "execution_count": 161,
   "id": "2adf2675",
   "metadata": {},
   "outputs": [],
   "source": [
    "from sklearn.linear_model import LinearRegression"
   ]
  },
  {
   "cell_type": "code",
   "execution_count": 184,
   "id": "6125e6de",
   "metadata": {},
   "outputs": [],
   "source": [
    "lr = LinearRegression()"
   ]
  },
  {
   "cell_type": "code",
   "execution_count": 185,
   "id": "d0c9189c",
   "metadata": {
    "scrolled": true
   },
   "outputs": [
    {
     "data": {
      "text/plain": [
       "LinearRegression()"
      ]
     },
     "execution_count": 185,
     "metadata": {},
     "output_type": "execute_result"
    }
   ],
   "source": [
    "lr.fit(x_train_scale, y_train)"
   ]
  },
  {
   "cell_type": "code",
   "execution_count": 186,
   "id": "75d978f9",
   "metadata": {},
   "outputs": [
    {
     "data": {
      "text/plain": [
       "{'copy_X': True,\n",
       " 'fit_intercept': True,\n",
       " 'n_jobs': None,\n",
       " 'normalize': 'deprecated',\n",
       " 'positive': False}"
      ]
     },
     "execution_count": 186,
     "metadata": {},
     "output_type": "execute_result"
    }
   ],
   "source": [
    "lr.get_params()"
   ]
  },
  {
   "cell_type": "code",
   "execution_count": 187,
   "id": "bf7e1fb4",
   "metadata": {},
   "outputs": [],
   "source": [
    "y_pred = lr.predict(x_test_scale)"
   ]
  },
  {
   "cell_type": "code",
   "execution_count": 167,
   "id": "a0753d2f",
   "metadata": {
    "scrolled": true
   },
   "outputs": [
    {
     "data": {
      "text/plain": [
       "<matplotlib.collections.PathCollection at 0x20b62bcbd00>"
      ]
     },
     "execution_count": 167,
     "metadata": {},
     "output_type": "execute_result"
    },
    {
     "data": {
      "image/png": "[encoded data removed]",
      "text/plain": [
       "<Figure size 432x288 with 1 Axes>"
      ]
     },
     "metadata": {
      "needs_background": "light"
     },
     "output_type": "display_data"
    }
   ],
   "source": [
    "plt.scatter(y_test, y_pred) "
   ]
  },
  {
   "cell_type": "code",
   "execution_count": 168,
   "id": "ad05c46d",
   "metadata": {},
   "outputs": [],
   "source": [
    "# residuals plot -> errors\n",
    "residuals = y_test - y_pred"
   ]
  },
  {
   "cell_type": "code",
   "execution_count": 169,
   "id": "5ff171b1",
   "metadata": {},
   "outputs": [
    {
     "data": {
      "text/plain": [
       "<seaborn.axisgrid.FacetGrid at 0x20b6303e8b0>"
      ]
     },
     "execution_count": 169,
     "metadata": {},
     "output_type": "execute_result"
    },
    {
     "data": {
      "image/png": "[encoded data removed]",
      "text/plain": [
       "<Figure size 360x360 with 1 Axes>"
      ]
     },
     "metadata": {
      "needs_background": "light"
     },
     "output_type": "display_data"
    }
   ],
   "source": [
    "# residuals plot\n",
    "sb.displot(residuals, kind=\"kde\")"
   ]
  },
  {
   "cell_type": "code",
   "execution_count": 171,
   "id": "1683d9a5",
   "metadata": {},
   "outputs": [],
   "source": [
    "# from sklearn.metrics import mean_squared_error, mean_absolute_error"
   ]
  },
  {
   "cell_type": "code",
   "execution_count": 172,
   "id": "083845c5",
   "metadata": {},
   "outputs": [
    {
     "name": "stdout",
     "output_type": "stream",
     "text": [
      "6894232789.40295\n",
      "58587.793155185216\n",
      "83031.51684392469\n"
     ]
    }
   ],
   "source": [
    "# print(mean_squared_error(y_test, y_pred))\n",
    "# print(mean_absolute_error(y_test, y_pred))\n",
    "# print(np.sqrt(mean_squared_error(y_test, y_pred))) #root mse"
   ]
  },
  {
   "cell_type": "markdown",
   "id": "278c3f2d",
   "metadata": {},
   "source": [
    "### R squared and Adjusted R squared\n",
    "***R Squared Formula***:<br><br>\n",
    "$ R^2 = SSR/SST $<br><br>\n",
    "$ R^2 $ = Coefficient of Determination<br>\n",
    "***SSR*** = Sum of Squares due to Regression<br>\n",
    "***SST*** = Sum of Squares Total"
   ]
  },
  {
   "cell_type": "code",
   "execution_count": 173,
   "id": "d4dc4a72",
   "metadata": {},
   "outputs": [],
   "source": [
    "# from sklearn.metrics import r2_score"
   ]
  },
  {
   "cell_type": "code",
   "execution_count": 174,
   "id": "687ca539",
   "metadata": {},
   "outputs": [
    {
     "data": {
      "text/plain": [
       "0.4380689664232328"
      ]
     },
     "execution_count": 174,
     "metadata": {},
     "output_type": "execute_result"
    }
   ],
   "source": [
    "# score = r2_score(y_test, y_pred)\n",
    "# score"
   ]
  },
  {
   "cell_type": "code",
   "execution_count": null,
   "id": "3ddbb4ff",
   "metadata": {},
   "outputs": [],
   "source": []
  },
  {
   "cell_type": "code",
   "execution_count": null,
   "id": "bf40eeda",
   "metadata": {},
   "outputs": [],
   "source": []
  },
  {
   "cell_type": "markdown",
   "id": "8ed03cd5",
   "metadata": {},
   "source": [
    "***Adjusted R Squared Formula***:<br><br>\n",
    "$ Adjusted R^2 = 1 - [(1-R^2) * (n-1)/n-k-1)] $<br><br>\n",
    "$ R^2 $ = R squared of the model<br>\n",
    "***n*** = the number of observations<br>\n",
    "***k*** = the number of predictor variables"
   ]
  },
  {
   "cell_type": "code",
   "execution_count": 188,
   "id": "6bf145f5",
   "metadata": {},
   "outputs": [
    {
     "data": {
      "text/plain": [
       "0.43668105402168467"
      ]
     },
     "execution_count": 188,
     "metadata": {},
     "output_type": "execute_result"
    }
   ],
   "source": [
    "# # Display adjusted r squared\n",
    "# 1-(1-score)*(len(y_test)-1)/(len(y_test)-x_test_scale.shape[1]-1)"
   ]
  },
  {
   "cell_type": "code",
   "execution_count": null,
   "id": "28f70439",
   "metadata": {},
   "outputs": [],
   "source": []
  },
  {
   "cell_type": "code",
   "execution_count": 177,
   "id": "78ccbec3",
   "metadata": {},
   "outputs": [
    {
     "data": {
      "text/plain": [
       "0.4380689664232328"
      ]
     },
     "execution_count": 177,
     "metadata": {},
     "output_type": "execute_result"
    }
   ],
   "source": [
    "lr.score(x_test_scale, y_test)"
   ]
  },
  {
   "cell_type": "markdown",
   "id": "ad149e1b",
   "metadata": {},
   "source": [
    "# SVM"
   ]
  },
  {
   "cell_type": "code",
   "execution_count": null,
   "id": "8dd05ea6",
   "metadata": {},
   "outputs": [],
   "source": []
  },
  {
   "cell_type": "code",
   "execution_count": 178,
   "id": "c9f95a0b",
   "metadata": {},
   "outputs": [],
   "source": [
    "# from sklearn import svm"
   ]
  },
  {
   "cell_type": "code",
   "execution_count": null,
   "id": "889c89f6",
   "metadata": {
    "scrolled": true
   },
   "outputs": [],
   "source": [
    "# model = svm.SVC(kernel='linear', gamma='auto')\n",
    "# model.fit(x_train, y_train) #.values gives numpy array shape (n, 1), .ravel() flattens it (n,) for svm convergence"
   ]
  },
  {
   "cell_type": "code",
   "execution_count": 180,
   "id": "1d85b863",
   "metadata": {},
   "outputs": [
    {
     "data": {
      "text/plain": [
       "0.024938423645320198"
      ]
     },
     "execution_count": 180,
     "metadata": {},
     "output_type": "execute_result"
    }
   ],
   "source": [
    "# model.score(x_test, y_test)"
   ]
  },
  {
   "cell_type": "code",
   "execution_count": 3,
   "id": "7387c67d",
   "metadata": {},
   "outputs": [
    {
     "name": "stdout",
     "output_type": "stream",
     "text": [
      "^C\n"
     ]
    }
   ],
   "source": []
  },
  {
   "cell_type": "code",
   "execution_count": null,
   "id": "8dd36b6e",
   "metadata": {},
   "outputs": [],
   "source": []
  },
  {
   "cell_type": "code",
   "execution_count": null,
   "id": "47aed4eb",
   "metadata": {},
   "outputs": [],
   "source": []
  }
 ],
 "metadata": {
  "kernelspec": {
   "display_name": "Python 3 (ipykernel)",
   "language": "python",
   "name": "python3"
  },
  "language_info": {
   "codemirror_mode": {
    "name": "ipython",
    "version": 3
   },
   "file_extension": ".py",
   "mimetype": "text/x-python",
   "name": "python",
   "nbconvert_exporter": "python",
   "pygments_lexer": "ipython3",
   "version": "3.9.12"
  }
 },
 "nbformat": 4,
 "nbformat_minor": 5
}
