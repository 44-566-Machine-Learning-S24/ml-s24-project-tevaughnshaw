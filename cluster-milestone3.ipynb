{
 "cells": [
  {
   "cell_type": "code",
   "execution_count": 1,
   "metadata": {},
   "outputs": [
    {
     "data": {
      "text/html": [
       "<div>\n",
       "<style scoped>\n",
       "    .dataframe tbody tr th:only-of-type {\n",
       "        vertical-align: middle;\n",
       "    }\n",
       "\n",
       "    .dataframe tbody tr th {\n",
       "        vertical-align: top;\n",
       "    }\n",
       "\n",
       "    .dataframe thead th {\n",
       "        text-align: right;\n",
       "    }\n",
       "</style>\n",
       "<table border=\"1\" class=\"dataframe\">\n",
       "  <thead>\n",
       "    <tr style=\"text-align: right;\">\n",
       "      <th></th>\n",
       "      <th>LATITUDE</th>\n",
       "      <th>LONGITUDE</th>\n",
       "      <th>PARCELNO</th>\n",
       "      <th>SALE_PRC</th>\n",
       "      <th>LND_SQFOOT</th>\n",
       "      <th>TOT_LVG_AREA</th>\n",
       "      <th>SPEC_FEAT_VAL</th>\n",
       "      <th>RAIL_DIST</th>\n",
       "      <th>OCEAN_DIST</th>\n",
       "      <th>WATER_DIST</th>\n",
       "      <th>CNTR_DIST</th>\n",
       "      <th>SUBCNTR_DI</th>\n",
       "      <th>HWY_DIST</th>\n",
       "      <th>age</th>\n",
       "      <th>avno60plus</th>\n",
       "      <th>month_sold</th>\n",
       "      <th>structure_quality</th>\n",
       "    </tr>\n",
       "  </thead>\n",
       "  <tbody>\n",
       "    <tr>\n",
       "      <th>0</th>\n",
       "      <td>25.891031</td>\n",
       "      <td>-80.160561</td>\n",
       "      <td>622280070620</td>\n",
       "      <td>440000.0</td>\n",
       "      <td>9375</td>\n",
       "      <td>1753</td>\n",
       "      <td>0</td>\n",
       "      <td>2815.9</td>\n",
       "      <td>12811.4</td>\n",
       "      <td>347.6</td>\n",
       "      <td>42815.3</td>\n",
       "      <td>37742.2</td>\n",
       "      <td>15954.9</td>\n",
       "      <td>67</td>\n",
       "      <td>0</td>\n",
       "      <td>8</td>\n",
       "      <td>4</td>\n",
       "    </tr>\n",
       "    <tr>\n",
       "      <th>1</th>\n",
       "      <td>25.891324</td>\n",
       "      <td>-80.153968</td>\n",
       "      <td>622280100460</td>\n",
       "      <td>349000.0</td>\n",
       "      <td>9375</td>\n",
       "      <td>1715</td>\n",
       "      <td>0</td>\n",
       "      <td>4359.1</td>\n",
       "      <td>10648.4</td>\n",
       "      <td>337.8</td>\n",
       "      <td>43504.9</td>\n",
       "      <td>37340.5</td>\n",
       "      <td>18125.0</td>\n",
       "      <td>63</td>\n",
       "      <td>0</td>\n",
       "      <td>9</td>\n",
       "      <td>4</td>\n",
       "    </tr>\n",
       "    <tr>\n",
       "      <th>2</th>\n",
       "      <td>25.891334</td>\n",
       "      <td>-80.153740</td>\n",
       "      <td>622280100470</td>\n",
       "      <td>800000.0</td>\n",
       "      <td>9375</td>\n",
       "      <td>2276</td>\n",
       "      <td>49206</td>\n",
       "      <td>4412.9</td>\n",
       "      <td>10574.1</td>\n",
       "      <td>297.1</td>\n",
       "      <td>43530.4</td>\n",
       "      <td>37328.7</td>\n",
       "      <td>18200.5</td>\n",
       "      <td>61</td>\n",
       "      <td>0</td>\n",
       "      <td>2</td>\n",
       "      <td>4</td>\n",
       "    </tr>\n",
       "    <tr>\n",
       "      <th>3</th>\n",
       "      <td>25.891765</td>\n",
       "      <td>-80.152657</td>\n",
       "      <td>622280100530</td>\n",
       "      <td>988000.0</td>\n",
       "      <td>12450</td>\n",
       "      <td>2058</td>\n",
       "      <td>10033</td>\n",
       "      <td>4585.0</td>\n",
       "      <td>10156.5</td>\n",
       "      <td>0.0</td>\n",
       "      <td>43797.5</td>\n",
       "      <td>37423.2</td>\n",
       "      <td>18514.4</td>\n",
       "      <td>63</td>\n",
       "      <td>0</td>\n",
       "      <td>9</td>\n",
       "      <td>4</td>\n",
       "    </tr>\n",
       "    <tr>\n",
       "      <th>4</th>\n",
       "      <td>25.891825</td>\n",
       "      <td>-80.154639</td>\n",
       "      <td>622280100200</td>\n",
       "      <td>755000.0</td>\n",
       "      <td>12800</td>\n",
       "      <td>1684</td>\n",
       "      <td>16681</td>\n",
       "      <td>4063.4</td>\n",
       "      <td>10836.8</td>\n",
       "      <td>326.6</td>\n",
       "      <td>43599.7</td>\n",
       "      <td>37550.8</td>\n",
       "      <td>17903.4</td>\n",
       "      <td>42</td>\n",
       "      <td>0</td>\n",
       "      <td>7</td>\n",
       "      <td>4</td>\n",
       "    </tr>\n",
       "  </tbody>\n",
       "</table>\n",
       "</div>"
      ],
      "text/plain": [
       "    LATITUDE  LONGITUDE      PARCELNO  SALE_PRC  LND_SQFOOT  TOT_LVG_AREA  \\\n",
       "0  25.891031 -80.160561  622280070620  440000.0        9375          1753   \n",
       "1  25.891324 -80.153968  622280100460  349000.0        9375          1715   \n",
       "2  25.891334 -80.153740  622280100470  800000.0        9375          2276   \n",
       "3  25.891765 -80.152657  622280100530  988000.0       12450          2058   \n",
       "4  25.891825 -80.154639  622280100200  755000.0       12800          1684   \n",
       "\n",
       "   SPEC_FEAT_VAL  RAIL_DIST  OCEAN_DIST  WATER_DIST  CNTR_DIST  SUBCNTR_DI  \\\n",
       "0              0     2815.9     12811.4       347.6    42815.3     37742.2   \n",
       "1              0     4359.1     10648.4       337.8    43504.9     37340.5   \n",
       "2          49206     4412.9     10574.1       297.1    43530.4     37328.7   \n",
       "3          10033     4585.0     10156.5         0.0    43797.5     37423.2   \n",
       "4          16681     4063.4     10836.8       326.6    43599.7     37550.8   \n",
       "\n",
       "   HWY_DIST  age  avno60plus  month_sold  structure_quality  \n",
       "0   15954.9   67           0           8                  4  \n",
       "1   18125.0   63           0           9                  4  \n",
       "2   18200.5   61           0           2                  4  \n",
       "3   18514.4   63           0           9                  4  \n",
       "4   17903.4   42           0           7                  4  "
      ]
     },
     "execution_count": 1,
     "metadata": {},
     "output_type": "execute_result"
    }
   ],
   "source": [
    "import pandas as pd\n",
    "\n",
    "df = pd.read_csv('miami-housing.csv')\n",
    "df.head()"
   ]
  },
  {
   "cell_type": "code",
   "execution_count": 2,
   "metadata": {},
   "outputs": [],
   "source": [
    "from sklearn.preprocessing import StandardScaler\n",
    "\n",
    "scaler = StandardScaler()\n",
    "X = scaler.fit_transform(df)"
   ]
  },
  {
   "cell_type": "markdown",
   "metadata": {},
   "source": [
    "## Clustering"
   ]
  },
  {
   "cell_type": "code",
   "execution_count": 3,
   "metadata": {},
   "outputs": [],
   "source": [
    "from sklearn.cluster import KMeans\n",
    "import numpy as np\n",
    "import matplotlib.pyplot as plt\n",
    "\n",
    "kmeans = KMeans(n_clusters=5, random_state=42)\n",
    "labels = kmeans.fit_predict(X)"
   ]
  },
  {
   "cell_type": "markdown",
   "metadata": {},
   "source": [
    "Using [Silhouette Score](https://scikit-learn.org/stable/modules/generated/sklearn.metrics.silhouette_score.html) to evaluate the cluster. Silhouette score calculates the difference the mean distance between a cluster and a sample. The best value is 1 and the worst value is -1. Values near 0 indicate overlapping clusters. Negative values generally indicate that a sample has been assigned to the wrong cluster, as a different cluster is more similar."
   ]
  },
  {
   "cell_type": "code",
   "execution_count": 4,
   "metadata": {},
   "outputs": [
    {
     "name": "stdout",
     "output_type": "stream",
     "text": [
      "Silhouette score: 0.1931373591832463\n"
     ]
    }
   ],
   "source": [
    "from sklearn.metrics import silhouette_score\n",
    "\n",
    "print(f'Silhouette score: {silhouette_score(X, labels)}')"
   ]
  },
  {
   "cell_type": "markdown",
   "metadata": {},
   "source": [
    "As shown above, the score is near zero which means there are overlapping clusters. "
   ]
  },
  {
   "cell_type": "markdown",
   "metadata": {},
   "source": [
    "## Principle Component Analysis"
   ]
  },
  {
   "cell_type": "code",
   "execution_count": 5,
   "metadata": {},
   "outputs": [],
   "source": [
    "from sklearn.decomposition import PCA\n",
    "\n",
    "pca = PCA(n_components=2)\n",
    "X_reduced = pca.fit_transform(X)"
   ]
  },
  {
   "cell_type": "code",
   "execution_count": 6,
   "metadata": {},
   "outputs": [
    {
     "name": "stdout",
     "output_type": "stream",
     "text": [
      "Silhouette score: 0.20563003890914042\n"
     ]
    }
   ],
   "source": [
    "print(f'Silhouette score: {silhouette_score(X_reduced, labels)}')"
   ]
  },
  {
   "cell_type": "markdown",
   "metadata": {},
   "source": [
    "## Neural Network"
   ]
  },
  {
   "cell_type": "code",
   "execution_count": 12,
   "metadata": {},
   "outputs": [
    {
     "name": "stdout",
     "output_type": "stream",
     "text": [
      "Epoch 1/50\n"
     ]
    },
    {
     "name": "stderr",
     "output_type": "stream",
     "text": [
      "C:\\Users\\S537849\\wmvenv\\Lib\\site-packages\\keras\\src\\layers\\core\\dense.py:86: UserWarning: Do not pass an `input_shape`/`input_dim` argument to a layer. When using Sequential models, prefer using an `Input(shape)` object as the first layer in the model instead.\n",
      "  super().__init__(activity_regularizer=activity_regularizer, **kwargs)\n"
     ]
    },
    {
     "name": "stdout",
     "output_type": "stream",
     "text": [
      "\u001b[1m244/244\u001b[0m \u001b[32m━━━━━━━━━━━━━━━━━━━━\u001b[0m\u001b[37m\u001b[0m \u001b[1m2s\u001b[0m 2ms/step - loss: 265044492288.0000 - val_loss: 256375259136.0000\n",
      "Epoch 2/50\n",
      "\u001b[1m244/244\u001b[0m \u001b[32m━━━━━━━━━━━━━━━━━━━━\u001b[0m\u001b[37m\u001b[0m \u001b[1m0s\u001b[0m 2ms/step - loss: 262428164096.0000 - val_loss: 254050713600.0000\n",
      "Epoch 3/50\n",
      "\u001b[1m244/244\u001b[0m \u001b[32m━━━━━━━━━━━━━━━━━━━━\u001b[0m\u001b[37m\u001b[0m \u001b[1m0s\u001b[0m 2ms/step - loss: 255640895488.0000 - val_loss: 247621468160.0000\n",
      "Epoch 4/50\n",
      "\u001b[1m244/244\u001b[0m \u001b[32m━━━━━━━━━━━━━━━━━━━━\u001b[0m\u001b[37m\u001b[0m \u001b[1m0s\u001b[0m 2ms/step - loss: 258557788160.0000 - val_loss: 236190072832.0000\n",
      "Epoch 5/50\n",
      "\u001b[1m244/244\u001b[0m \u001b[32m━━━━━━━━━━━━━━━━━━━━\u001b[0m\u001b[37m\u001b[0m \u001b[1m1s\u001b[0m 2ms/step - loss: 227098935296.0000 - val_loss: 219500216320.0000\n",
      "Epoch 6/50\n",
      "\u001b[1m244/244\u001b[0m \u001b[32m━━━━━━━━━━━━━━━━━━━━\u001b[0m\u001b[37m\u001b[0m \u001b[1m0s\u001b[0m 2ms/step - loss: 210730532864.0000 - val_loss: 197893177344.0000\n",
      "Epoch 7/50\n",
      "\u001b[1m244/244\u001b[0m \u001b[32m━━━━━━━━━━━━━━━━━━━━\u001b[0m\u001b[37m\u001b[0m \u001b[1m0s\u001b[0m 1ms/step - loss: 187032158208.0000 - val_loss: 172870647808.0000\n",
      "Epoch 8/50\n",
      "\u001b[1m244/244\u001b[0m \u001b[32m━━━━━━━━━━━━━━━━━━━━\u001b[0m\u001b[37m\u001b[0m \u001b[1m0s\u001b[0m 2ms/step - loss: 170434609152.0000 - val_loss: 146827804672.0000\n",
      "Epoch 9/50\n",
      "\u001b[1m244/244\u001b[0m \u001b[32m━━━━━━━━━━━━━━━━━━━━\u001b[0m\u001b[37m\u001b[0m \u001b[1m0s\u001b[0m 2ms/step - loss: 143180496896.0000 - val_loss: 121414877184.0000\n",
      "Epoch 10/50\n",
      "\u001b[1m244/244\u001b[0m \u001b[32m━━━━━━━━━━━━━━━━━━━━\u001b[0m\u001b[37m\u001b[0m \u001b[1m0s\u001b[0m 2ms/step - loss: 119066402816.0000 - val_loss: 98698641408.0000\n",
      "Epoch 11/50\n",
      "\u001b[1m244/244\u001b[0m \u001b[32m━━━━━━━━━━━━━━━━━━━━\u001b[0m\u001b[37m\u001b[0m \u001b[1m0s\u001b[0m 2ms/step - loss: 97726693376.0000 - val_loss: 79656296448.0000\n",
      "Epoch 12/50\n",
      "\u001b[1m244/244\u001b[0m \u001b[32m━━━━━━━━━━━━━━━━━━━━\u001b[0m\u001b[37m\u001b[0m \u001b[1m0s\u001b[0m 2ms/step - loss: 77991108608.0000 - val_loss: 65166159872.0000\n",
      "Epoch 13/50\n",
      "\u001b[1m244/244\u001b[0m \u001b[32m━━━━━━━━━━━━━━━━━━━━\u001b[0m\u001b[37m\u001b[0m \u001b[1m0s\u001b[0m 2ms/step - loss: 67672178688.0000 - val_loss: 54740185088.0000\n",
      "Epoch 14/50\n",
      "\u001b[1m244/244\u001b[0m \u001b[32m━━━━━━━━━━━━━━━━━━━━\u001b[0m\u001b[37m\u001b[0m \u001b[1m0s\u001b[0m 2ms/step - loss: 53230469120.0000 - val_loss: 47635800064.0000\n",
      "Epoch 15/50\n",
      "\u001b[1m244/244\u001b[0m \u001b[32m━━━━━━━━━━━━━━━━━━━━\u001b[0m\u001b[37m\u001b[0m \u001b[1m0s\u001b[0m 2ms/step - loss: 50854510592.0000 - val_loss: 42762842112.0000\n",
      "Epoch 16/50\n",
      "\u001b[1m244/244\u001b[0m \u001b[32m━━━━━━━━━━━━━━━━━━━━\u001b[0m\u001b[37m\u001b[0m \u001b[1m0s\u001b[0m 2ms/step - loss: 47544213504.0000 - val_loss: 39346233344.0000\n",
      "Epoch 17/50\n",
      "\u001b[1m244/244\u001b[0m \u001b[32m━━━━━━━━━━━━━━━━━━━━\u001b[0m\u001b[37m\u001b[0m \u001b[1m0s\u001b[0m 2ms/step - loss: 42637893632.0000 - val_loss: 36894208000.0000\n",
      "Epoch 18/50\n",
      "\u001b[1m244/244\u001b[0m \u001b[32m━━━━━━━━━━━━━━━━━━━━\u001b[0m\u001b[37m\u001b[0m \u001b[1m0s\u001b[0m 2ms/step - loss: 41155256320.0000 - val_loss: 35014393856.0000\n",
      "Epoch 19/50\n",
      "\u001b[1m244/244\u001b[0m \u001b[32m━━━━━━━━━━━━━━━━━━━━\u001b[0m\u001b[37m\u001b[0m \u001b[1m0s\u001b[0m 2ms/step - loss: 36559740928.0000 - val_loss: 33536276480.0000\n",
      "Epoch 20/50\n",
      "\u001b[1m244/244\u001b[0m \u001b[32m━━━━━━━━━━━━━━━━━━━━\u001b[0m\u001b[37m\u001b[0m \u001b[1m0s\u001b[0m 2ms/step - loss: 35343409152.0000 - val_loss: 32328988672.0000\n",
      "Epoch 21/50\n",
      "\u001b[1m244/244\u001b[0m \u001b[32m━━━━━━━━━━━━━━━━━━━━\u001b[0m\u001b[37m\u001b[0m \u001b[1m0s\u001b[0m 2ms/step - loss: 33289205760.0000 - val_loss: 31321065472.0000\n",
      "Epoch 22/50\n",
      "\u001b[1m244/244\u001b[0m \u001b[32m━━━━━━━━━━━━━━━━━━━━\u001b[0m\u001b[37m\u001b[0m \u001b[1m0s\u001b[0m 2ms/step - loss: 33154576384.0000 - val_loss: 30450393088.0000\n",
      "Epoch 23/50\n",
      "\u001b[1m244/244\u001b[0m \u001b[32m━━━━━━━━━━━━━━━━━━━━\u001b[0m\u001b[37m\u001b[0m \u001b[1m0s\u001b[0m 2ms/step - loss: 30731098112.0000 - val_loss: 29685635072.0000\n",
      "Epoch 24/50\n",
      "\u001b[1m244/244\u001b[0m \u001b[32m━━━━━━━━━━━━━━━━━━━━\u001b[0m\u001b[37m\u001b[0m \u001b[1m0s\u001b[0m 2ms/step - loss: 31341031424.0000 - val_loss: 28985769984.0000\n",
      "Epoch 25/50\n",
      "\u001b[1m244/244\u001b[0m \u001b[32m━━━━━━━━━━━━━━━━━━━━\u001b[0m\u001b[37m\u001b[0m \u001b[1m0s\u001b[0m 2ms/step - loss: 34433658880.0000 - val_loss: 28369430528.0000\n",
      "Epoch 26/50\n",
      "\u001b[1m244/244\u001b[0m \u001b[32m━━━━━━━━━━━━━━━━━━━━\u001b[0m\u001b[37m\u001b[0m \u001b[1m0s\u001b[0m 2ms/step - loss: 29069764608.0000 - val_loss: 27788765184.0000\n",
      "Epoch 27/50\n",
      "\u001b[1m244/244\u001b[0m \u001b[32m━━━━━━━━━━━━━━━━━━━━\u001b[0m\u001b[37m\u001b[0m \u001b[1m0s\u001b[0m 2ms/step - loss: 27738531840.0000 - val_loss: 27258576896.0000\n",
      "Epoch 28/50\n",
      "\u001b[1m244/244\u001b[0m \u001b[32m━━━━━━━━━━━━━━━━━━━━\u001b[0m\u001b[37m\u001b[0m \u001b[1m0s\u001b[0m 2ms/step - loss: 28894083072.0000 - val_loss: 26765727744.0000\n",
      "Epoch 29/50\n",
      "\u001b[1m244/244\u001b[0m \u001b[32m━━━━━━━━━━━━━━━━━━━━\u001b[0m\u001b[37m\u001b[0m \u001b[1m0s\u001b[0m 2ms/step - loss: 31319072768.0000 - val_loss: 26303111168.0000\n",
      "Epoch 30/50\n",
      "\u001b[1m244/244\u001b[0m \u001b[32m━━━━━━━━━━━━━━━━━━━━\u001b[0m\u001b[37m\u001b[0m \u001b[1m0s\u001b[0m 2ms/step - loss: 30363957248.0000 - val_loss: 25869862912.0000\n",
      "Epoch 31/50\n",
      "\u001b[1m244/244\u001b[0m \u001b[32m━━━━━━━━━━━━━━━━━━━━\u001b[0m\u001b[37m\u001b[0m \u001b[1m0s\u001b[0m 2ms/step - loss: 28396642304.0000 - val_loss: 25464379392.0000\n",
      "Epoch 32/50\n",
      "\u001b[1m244/244\u001b[0m \u001b[32m━━━━━━━━━━━━━━━━━━━━\u001b[0m\u001b[37m\u001b[0m \u001b[1m0s\u001b[0m 2ms/step - loss: 28397504512.0000 - val_loss: 25080805376.0000\n",
      "Epoch 33/50\n",
      "\u001b[1m244/244\u001b[0m \u001b[32m━━━━━━━━━━━━━━━━━━━━\u001b[0m\u001b[37m\u001b[0m \u001b[1m0s\u001b[0m 1ms/step - loss: 26359099392.0000 - val_loss: 24711602176.0000\n",
      "Epoch 34/50\n",
      "\u001b[1m244/244\u001b[0m \u001b[32m━━━━━━━━━━━━━━━━━━━━\u001b[0m\u001b[37m\u001b[0m \u001b[1m0s\u001b[0m 2ms/step - loss: 28508522496.0000 - val_loss: 24362989568.0000\n",
      "Epoch 35/50\n",
      "\u001b[1m244/244\u001b[0m \u001b[32m━━━━━━━━━━━━━━━━━━━━\u001b[0m\u001b[37m\u001b[0m \u001b[1m0s\u001b[0m 2ms/step - loss: 27670071296.0000 - val_loss: 24027226112.0000\n",
      "Epoch 36/50\n",
      "\u001b[1m244/244\u001b[0m \u001b[32m━━━━━━━━━━━━━━━━━━━━\u001b[0m\u001b[37m\u001b[0m \u001b[1m0s\u001b[0m 2ms/step - loss: 27420964864.0000 - val_loss: 23704811520.0000\n",
      "Epoch 37/50\n",
      "\u001b[1m244/244\u001b[0m \u001b[32m━━━━━━━━━━━━━━━━━━━━\u001b[0m\u001b[37m\u001b[0m \u001b[1m0s\u001b[0m 1ms/step - loss: 26963855360.0000 - val_loss: 23399464960.0000\n",
      "Epoch 38/50\n",
      "\u001b[1m244/244\u001b[0m \u001b[32m━━━━━━━━━━━━━━━━━━━━\u001b[0m\u001b[37m\u001b[0m \u001b[1m0s\u001b[0m 2ms/step - loss: 25913972736.0000 - val_loss: 23104882688.0000\n",
      "Epoch 39/50\n",
      "\u001b[1m244/244\u001b[0m \u001b[32m━━━━━━━━━━━━━━━━━━━━\u001b[0m\u001b[37m\u001b[0m \u001b[1m0s\u001b[0m 2ms/step - loss: 23166978048.0000 - val_loss: 22823010304.0000\n",
      "Epoch 40/50\n",
      "\u001b[1m244/244\u001b[0m \u001b[32m━━━━━━━━━━━━━━━━━━━━\u001b[0m\u001b[37m\u001b[0m \u001b[1m0s\u001b[0m 2ms/step - loss: 23995062272.0000 - val_loss: 22550843392.0000\n",
      "Epoch 41/50\n",
      "\u001b[1m244/244\u001b[0m \u001b[32m━━━━━━━━━━━━━━━━━━━━\u001b[0m\u001b[37m\u001b[0m \u001b[1m0s\u001b[0m 2ms/step - loss: 24153899008.0000 - val_loss: 22285838336.0000\n",
      "Epoch 42/50\n",
      "\u001b[1m244/244\u001b[0m \u001b[32m━━━━━━━━━━━━━━━━━━━━\u001b[0m\u001b[37m\u001b[0m \u001b[1m0s\u001b[0m 2ms/step - loss: 23990444032.0000 - val_loss: 22031529984.0000\n",
      "Epoch 43/50\n",
      "\u001b[1m244/244\u001b[0m \u001b[32m━━━━━━━━━━━━━━━━━━━━\u001b[0m\u001b[37m\u001b[0m \u001b[1m0s\u001b[0m 2ms/step - loss: 22191239168.0000 - val_loss: 21790480384.0000\n",
      "Epoch 44/50\n",
      "\u001b[1m244/244\u001b[0m \u001b[32m━━━━━━━━━━━━━━━━━━━━\u001b[0m\u001b[37m\u001b[0m \u001b[1m0s\u001b[0m 2ms/step - loss: 24741076992.0000 - val_loss: 21559169024.0000\n",
      "Epoch 45/50\n",
      "\u001b[1m244/244\u001b[0m \u001b[32m━━━━━━━━━━━━━━━━━━━━\u001b[0m\u001b[37m\u001b[0m \u001b[1m0s\u001b[0m 2ms/step - loss: 22376972288.0000 - val_loss: 21338208256.0000\n",
      "Epoch 46/50\n",
      "\u001b[1m244/244\u001b[0m \u001b[32m━━━━━━━━━━━━━━━━━━━━\u001b[0m\u001b[37m\u001b[0m \u001b[1m0s\u001b[0m 2ms/step - loss: 24124897280.0000 - val_loss: 21125437440.0000\n",
      "Epoch 47/50\n",
      "\u001b[1m244/244\u001b[0m \u001b[32m━━━━━━━━━━━━━━━━━━━━\u001b[0m\u001b[37m\u001b[0m \u001b[1m0s\u001b[0m 2ms/step - loss: 23569250304.0000 - val_loss: 20919595008.0000\n",
      "Epoch 48/50\n",
      "\u001b[1m244/244\u001b[0m \u001b[32m━━━━━━━━━━━━━━━━━━━━\u001b[0m\u001b[37m\u001b[0m \u001b[1m0s\u001b[0m 2ms/step - loss: 22307010560.0000 - val_loss: 20728678400.0000\n",
      "Epoch 49/50\n",
      "\u001b[1m244/244\u001b[0m \u001b[32m━━━━━━━━━━━━━━━━━━━━\u001b[0m\u001b[37m\u001b[0m \u001b[1m0s\u001b[0m 2ms/step - loss: 24321779712.0000 - val_loss: 20538562560.0000\n",
      "Epoch 50/50\n",
      "\u001b[1m244/244\u001b[0m \u001b[32m━━━━━━━━━━━━━━━━━━━━\u001b[0m\u001b[37m\u001b[0m \u001b[1m0s\u001b[0m 2ms/step - loss: 23790006272.0000 - val_loss: 20356761600.0000\n",
      "\u001b[1m131/131\u001b[0m \u001b[32m━━━━━━━━━━━━━━━━━━━━\u001b[0m\u001b[37m\u001b[0m \u001b[1m0s\u001b[0m 1ms/step\n",
      "\u001b[1m131/131\u001b[0m \u001b[32m━━━━━━━━━━━━━━━━━━━━\u001b[0m\u001b[37m\u001b[0m \u001b[1m0s\u001b[0m 959us/step - loss: 24159092736.0000\n",
      "Mean squared error: 22770131645.2401\n",
      "MSE on test set: 22770132992.0000\n",
      "R squared: 0.7748\n"
     ]
    }
   ],
   "source": [
    "from sklearn.model_selection import train_test_split\n",
    "from tensorflow.keras.models import Sequential\n",
    "from tensorflow.keras.layers import Dense\n",
    "from tensorflow.keras.optimizers import Adam\n",
    "from sklearn.metrics import mean_squared_error, r2_score\n",
    "\n",
    "x = df.drop('SALE_PRC', axis=1)\n",
    "y = df['SALE_PRC']\n",
    "\n",
    "# Splitting\n",
    "x_train, x_test, y_train, y_test = train_test_split(x,y, test_size=0.3, random_state=42)\n",
    "\n",
    "# Scale \n",
    "x_train_scaled = scaler.fit_transform(x_train)\n",
    "x_test_scaled = scaler.fit_transform(x_test)\n",
    "\n",
    "# Building NN\n",
    "model = Sequential()\n",
    "model.add(Dense(64, activation='relu', input_dim=x_train_scaled.shape[1]))\n",
    "model.add(Dense(32, activation='relu'))\n",
    "model.add(Dense(1))\n",
    "\n",
    "model.compile(loss='mean_squared_error', \n",
    "              optimizer='adam')\n",
    "\n",
    "# Train\n",
    "model.fit(x_train_scaled, y_train, epochs=50, batch_size=32, validation_split=0.2)\n",
    "\n",
    "# Evaluate model\n",
    "y_pred = model.predict(x_test_scaled)\n",
    "model_loss = model.evaluate(x_test_scaled, y_test)\n",
    "mse = mean_squared_error(y_test, y_pred)\n",
    "r2 = r2_score(y_test, y_pred)\n",
    "\n",
    "print(f'Mean squared error: {mse:.4f}')\n",
    "print(f'MSE on test set: {model_loss:.4f}')\n",
    "print(f'R squared: {r2:.4f}')"
   ]
  },
  {
   "cell_type": "markdown",
   "metadata": {},
   "source": [
    "MSE is quite high indicating that the predictions made by the regression model have a large average squared difference from the actual target values.In the context of housing price prediction, this means that the model’s predictions are significantly off from the true housing prices. In the future by exploring further improvements such as hyperparameter tuning can help with the regression model."
   ]
  }
 ],
 "metadata": {
  "kernelspec": {
   "display_name": "Python 3 (ipykernel)",
   "language": "python",
   "name": "python3"
  },
  "language_info": {
   "codemirror_mode": {
    "name": "ipython",
    "version": 3
   },
   "file_extension": ".py",
   "mimetype": "text/x-python",
   "name": "python",
   "nbconvert_exporter": "python",
   "pygments_lexer": "ipython3",
   "version": "3.12.1"
  }
 },
 "nbformat": 4,
 "nbformat_minor": 2
}
